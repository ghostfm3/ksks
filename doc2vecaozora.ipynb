{
  "nbformat": 4,
  "nbformat_minor": 0,
  "metadata": {
    "colab": {
      "name": "doc2vecaozora.ipynb",
      "provenance": [],
      "collapsed_sections": [],
      "authorship_tag": "ABX9TyMMYC2r4SjpJnDKDb7aKIYF",
      "include_colab_link": true
    },
    "kernelspec": {
      "name": "python3",
      "display_name": "Python 3"
    },
    "accelerator": "GPU"
  },
  "cells": [
    {
      "cell_type": "markdown",
      "metadata": {
        "id": "view-in-github",
        "colab_type": "text"
      },
      "source": [
        "<a href=\"https://colab.research.google.com/github/ghostfm3/ksks/blob/master/doc2vecaozora.ipynb\" target=\"_parent\"><img src=\"https://colab.research.google.com/assets/colab-badge.svg\" alt=\"Open In Colab\"/></a>"
      ]
    },
    {
      "cell_type": "code",
      "metadata": {
        "colab": {
          "base_uri": "https://localhost:8080/"
        },
        "id": "8l1gMwbClEF1",
        "outputId": "7af685c1-7ac9-4925-d8ce-e489e587bbfa"
      },
      "source": [
        "!apt-get -q -y install sudo file mecab libmecab-dev mecab-ipadic-utf8 git curl python-mecab > /dev/null\n",
        "!git clone --depth 1 https://github.com/neologd/mecab-ipadic-neologd.git > /dev/null \n",
        "!echo yes | mecab-ipadic-neologd/bin/install-mecab-ipadic-neologd -n > /dev/null 2>&1\n",
        "!pip install mecab-python3 > /dev/null\n",
        "\n",
        "# シンボリックリンクによるエラー回避\n",
        "!ln -s /etc/mecabrc /usr/local/etc/mecabrc\n"
      ],
      "execution_count": 36,
      "outputs": [
        {
          "output_type": "stream",
          "text": [
            "fatal: destination path 'mecab-ipadic-neologd' already exists and is not an empty directory.\n",
            "ln: failed to create symbolic link '/usr/local/etc/mecabrc': File exists\n"
          ],
          "name": "stdout"
        }
      ]
    },
    {
      "cell_type": "markdown",
      "metadata": {
        "id": "_OiH2O3lCc7K"
      },
      "source": [
        "https://qiita.com/jun40vn/items/78e33e29dce3d50c2df1\n",
        "を参照"
      ]
    },
    {
      "cell_type": "code",
      "metadata": {
        "colab": {
          "base_uri": "https://localhost:8080/"
        },
        "id": "-WSxWxbnm94t",
        "outputId": "6f9f4e67-ca27-41dc-9470-1fb05a561f10"
      },
      "source": [
        "!echo `mecab-config --dicdir`\"/mecab-ipadic-neologd\""
      ],
      "execution_count": 37,
      "outputs": [
        {
          "output_type": "stream",
          "text": [
            "/usr/lib/x86_64-linux-gnu/mecab/dic/mecab-ipadic-neologd\n"
          ],
          "name": "stdout"
        }
      ]
    },
    {
      "cell_type": "code",
      "metadata": {
        "colab": {
          "base_uri": "https://localhost:8080/"
        },
        "id": "S-DbmLyGnS_n",
        "outputId": "3b986ce2-107c-4cf7-91e7-419ca521a1a4"
      },
      "source": [
        "import zipfile\n",
        "import os.path\n",
        "import urllib.request as req\n",
        "import MeCab\n",
        "from gensim import models\n",
        "from gensim.models.doc2vec import TaggedDocument\n",
        "\n",
        "mecab=MeCab.Tagger()\n",
        "mecab.parse(\"\")\n",
        "\n",
        "list = [\n",
        "      {\"auther\":{\n",
        "          \"name\":\"宮沢 賢治\",\n",
        "          \"url\":\"https://www.aozora.gr.jp/cards/000081/files/\"},\n",
        "       \"books\":[\n",
        "                {\"name\":\"銀河鉄道の夜\",\"zipname\":\"43737_ruby_19028.zip\"},\n",
        "                {\"name\":\"注文の多い料理店\",\"zipname\":\"1927_ruby_17835.zip\"},\n",
        "                {\"name\":\"セロ弾きのゴーシュ\",\"zipname\":\"470_ruby_3987.zip\"},\n",
        "                {\"name\":\"やまなし\",\"zipname\":\"46605_ruby_29758.zip\"},\n",
        "                {\"name\":\"どんぐりと山猫\",\"zipname\":\"43752_ruby_17595.zip\"},\n",
        "       ]},\n",
        "      {\"auther\":{\n",
        "          \"name\":\"芥川 龍之介\",\n",
        "          \"url\":\"https://www.aozora.gr.jp/cards/000879/files/\"},\n",
        "       \"books\":[\n",
        "                {\"name\":\"羅生門\",\"zipname\":\"127_ruby_150.zip\"},\n",
        "                {\"name\":\"鼻\",\"zipname\":\"42_ruby_154.zip\"},\n",
        "                {\"name\":\"河童\",\"zipname\":\"69_ruby_1321.zip\"},\n",
        "                {\"name\":\"歯車\",\"zipname\":\"42377_ruby_34744.zip\"},\n",
        "                {\"name\":\"老年\",\"zipname\":\"131_ruby_241.zip\"},\n",
        "       ]},\n",
        "       {\"auther\":{\n",
        "          \"name\":\"太宰 治\",\n",
        "          \"url\":\"https://www.aozora.gr.jp/cards/000035/files/\"},\n",
        "       \"books\":[\n",
        "                {\"name\":\"斜陽\",\"zipname\":\"1565_ruby_8220.zip\"},\n",
        "                {\"name\":\"走れメロス\",\"zipname\":\"1567_ruby_4948.zip\"},\n",
        "                {\"name\":\"津軽\",\"zipname\":\"2282_ruby_1996.zip\"},\n",
        "                {\"name\":\"お伽草紙\",\"zipname\":\"307_ruby_3042.zip\"},\n",
        "                {\"name\":\"人間失格\",\"zipname\":\"301_ruby_5915.zip\"},\n",
        "       ]},\n",
        "       {\"auther\":{\n",
        "          \"name\":\"夏目 漱石\",\n",
        "          \"url\":\"https://www.aozora.gr.jp/cards/000148/files/\"},\n",
        "       \"books\":[\n",
        "                {\"name\":\"吾輩は猫である\",\"zipname\":\"789_ruby_5639.zip\"},\n",
        "                {\"name\":\"坊っちゃん\",\"zipname\":\"752_ruby_2438.zip\"},\n",
        "                {\"name\":\"草枕\",\"zipname\":\"776_ruby_6020.zip\"},\n",
        "                {\"name\":\"虞美人草\",\"zipname\":\"761_ruby_1861.zip\"},\n",
        "                {\"name\":\"三四郎\",\"zipname\":\"794_ruby_4237.zip\"},\n",
        "       ]},\n",
        "      \n",
        "]\n",
        "\n",
        "def book_list():\n",
        "  for novelist in list:\n",
        "    auther = novelist[\"auther\"]\n",
        "    for book in novelist[\"books\"]:\n",
        "      yield auther, book\n",
        "\n",
        "def read_book(auther, book):\n",
        "  zipname = book[\"zipname\"]\n",
        "  if not os.path.exists(zipname):\n",
        "    req.urlretrieve(auther[\"url\"] + zipname, zipname)\n",
        "  zipname = book[\"zipname\"]\n",
        "  with zipfile.ZipFile(zipname,\"r\") as zf:\n",
        "    for filename in zf.namelist():\n",
        "      with zf.open(filename,\"r\") as f:\n",
        "        return f.read().decode(\"shift-jis\") \n",
        "\n",
        "def split_words(text):\n",
        "  node = mecab.parseToNode(text)\n",
        "  wakati_words = []\n",
        "  while node is not None:\n",
        "    hinshi = node.feature.split(\",\")[0]\n",
        "    if hinshi in [\"名詞\"]:\n",
        "      wakati_words.append(node.surface)\n",
        "    elif hinshi in [\"動詞\",\"形容詞\"]:\n",
        "      wakati_words.append(node.feature.split(\",\")[6])\n",
        "    node = node.next\n",
        "  return wakati_words\n",
        "\n",
        "documents = []\n",
        "\n",
        "for auther, book in book_list():\n",
        "  words = read_book(auther, book)\n",
        "  wakati_words = split_words(words)\n",
        "  document = TaggedDocument(\n",
        "     wakati_words, [auther[\"name\"] + \":\" + book[\"name\"]]\n",
        "     )\n",
        "  documents.append(document)\n",
        "\n",
        "model = models.Doc2Vec(\n",
        "    documents, dm=1, vector_size=300, window=5, min_count=1)\n",
        "\n",
        "model.save('aozora.model')\n",
        "\n",
        "print(\"モデル作成完了\")"
      ],
      "execution_count": 38,
      "outputs": [
        {
          "output_type": "stream",
          "text": [
            "モデル作成完了\n"
          ],
          "name": "stdout"
        }
      ]
    },
    {
      "cell_type": "code",
      "metadata": {
        "id": "rufWlnLk1CYv"
      },
      "source": [
        "import urllib.request as req\n",
        "import zipfile\n",
        "import os.path\n",
        "import MeCab\n",
        "from gensim import models\n",
        "\n",
        "\n"
      ],
      "execution_count": 39,
      "outputs": []
    }
  ]
}