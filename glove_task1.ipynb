{
  "nbformat": 4,
  "nbformat_minor": 0,
  "metadata": {
    "colab": {
      "name": "glove_task1.ipynb",
      "provenance": [],
      "collapsed_sections": [],
      "authorship_tag": "ABX9TyPYBFObPASvDee5VYTxE0IZ",
      "include_colab_link": true
    },
    "kernelspec": {
      "name": "python3",
      "display_name": "Python 3"
    },
    "language_info": {
      "name": "python"
    }
  },
  "cells": [
    {
      "cell_type": "markdown",
      "metadata": {
        "id": "view-in-github",
        "colab_type": "text"
      },
      "source": [
        "<a href=\"https://colab.research.google.com/github/ghostfm3/ksks/blob/master/glove_task1.ipynb\" target=\"_parent\"><img src=\"https://colab.research.google.com/assets/colab-badge.svg\" alt=\"Open In Colab\"/></a>"
      ]
    },
    {
      "cell_type": "code",
      "metadata": {
        "id": "T24T_Juyvf3L"
      },
      "source": [
        "import pandas as pd\n",
        "import numpy as np"
      ],
      "execution_count": 1,
      "outputs": []
    },
    {
      "cell_type": "code",
      "metadata": {
        "id": "qzlhbGs7_whZ"
      },
      "source": [
        "import logging\n",
        "logging.basicConfig(format='%(asctime)s : %(levelname)s : %(message)s', level = logging.INFO)"
      ],
      "execution_count": 16,
      "outputs": []
    },
    {
      "cell_type": "code",
      "metadata": {
        "id": "XKSb2-YyzQ1v"
      },
      "source": [
        "vectors = pd.read_csv('./vectors.txt', delimiter=' ', index_col=0, header=None)"
      ],
      "execution_count": 2,
      "outputs": []
    },
    {
      "cell_type": "code",
      "metadata": {
        "id": "33VK1vb_zWDE"
      },
      "source": [
        "vector = vectors.loc['orange',:].values"
      ],
      "execution_count": 4,
      "outputs": []
    },
    {
      "cell_type": "code",
      "metadata": {
        "colab": {
          "base_uri": "https://localhost:8080/"
        },
        "id": "wQGFz2gfzeVz",
        "outputId": "3f2af674-7a62-4496-b523-b9dd6c803866"
      },
      "source": [
        "vector"
      ],
      "execution_count": 5,
      "outputs": [
        {
          "output_type": "execute_result",
          "data": {
            "text/plain": [
              "array([-0.03155 , -0.032607, -0.097797,  0.161203, -0.155198, -0.097606,\n",
              "        0.087832, -0.065362,  0.040706,  0.042456, -0.071385, -0.023513,\n",
              "        0.050271, -0.085026,  0.047609, -0.083829, -0.097889,  0.067327,\n",
              "       -0.072689, -0.017236,  0.111015, -0.01131 , -0.073863, -0.057454,\n",
              "        0.040055,  0.018522, -0.051439,  0.09924 , -0.014189, -0.003715,\n",
              "       -0.028242,  0.092039,  0.026196,  0.081443, -0.035028,  0.000425,\n",
              "        0.081407, -0.006534, -0.029483, -0.001143, -0.019073,  0.024017,\n",
              "        0.016512,  0.078948, -0.056913, -0.033583,  0.079337, -0.020389,\n",
              "        0.041653,  0.075728])"
            ]
          },
          "metadata": {
            "tags": []
          },
          "execution_count": 5
        }
      ]
    },
    {
      "cell_type": "code",
      "metadata": {
        "id": "qFq7XU-zzhfd"
      },
      "source": [
        "with open('./vectors.txt', 'r') as original, open('./gensim_vectors.txt', 'w') as transformed:\n",
        "    vocab_count = vectors.shape[0]  # 単語数\n",
        "    size = vectors.shape[1]  # 次元数\n",
        "    \n",
        "    transformed.write(f'{vocab_count} {size}\\n')\n",
        "    transformed.write(original.read())  # 2行目以降はそのまま出力"
      ],
      "execution_count": 6,
      "outputs": []
    },
    {
      "cell_type": "code",
      "metadata": {
        "id": "flPxCmrmzmWD"
      },
      "source": [
        "import gensim\n",
        "from gensim.models import KeyedVectors"
      ],
      "execution_count": 8,
      "outputs": []
    },
    {
      "cell_type": "code",
      "metadata": {
        "id": "UxUYTDLA0cnV"
      },
      "source": [
        "glove_vectors = KeyedVectors.load_word2vec_format('gensim_vectors.txt', binary=False)"
      ],
      "execution_count": 9,
      "outputs": []
    },
    {
      "cell_type": "code",
      "metadata": {
        "colab": {
          "base_uri": "https://localhost:8080/"
        },
        "id": "PkC5q1HS0pIm",
        "outputId": "5c4016b6-a5f6-4803-90da-8656e24e63b1"
      },
      "source": [
        "glove_vectors.wv[\"cost\"]"
      ],
      "execution_count": 10,
      "outputs": [
        {
          "output_type": "stream",
          "text": [
            "/usr/local/lib/python3.7/dist-packages/ipykernel_launcher.py:1: DeprecationWarning: Call to deprecated `wv` (Attribute will be removed in 4.0.0, use self instead).\n",
            "  \"\"\"Entry point for launching an IPython kernel.\n"
          ],
          "name": "stderr"
        },
        {
          "output_type": "execute_result",
          "data": {
            "text/plain": [
              "array([ 0.925999, -0.18983 ,  0.248237,  0.759561,  0.783635, -1.431558,\n",
              "        0.275159, -0.323816, -0.118012,  0.675218,  0.082232, -0.354347,\n",
              "        0.042607,  0.776713, -0.607694, -0.474221, -0.312432,  0.353499,\n",
              "       -0.527969,  1.04905 , -0.094179, -0.525238,  0.155622,  0.528062,\n",
              "       -0.239131,  0.72363 , -0.172024,  1.204954,  0.238275,  0.423288,\n",
              "       -1.105562,  0.318813,  0.692817, -0.998219, -0.229673, -1.025352,\n",
              "       -0.525381,  0.22372 ,  0.147908, -0.333906,  0.32044 ,  0.004128,\n",
              "       -0.95879 ,  0.340874,  0.309994, -0.368284,  0.940414, -0.152935,\n",
              "       -0.59849 , -0.576216], dtype=float32)"
            ]
          },
          "metadata": {
            "tags": []
          },
          "execution_count": 10
        }
      ]
    },
    {
      "cell_type": "code",
      "metadata": {
        "id": "48UGe8cV0v2p"
      },
      "source": [
        "from gensim.test.utils import datapath"
      ],
      "execution_count": 11,
      "outputs": []
    },
    {
      "cell_type": "code",
      "metadata": {
        "colab": {
          "base_uri": "https://localhost:8080/"
        },
        "id": "SK0vUuQJ01EL",
        "outputId": "45f86e82-a26b-4ab7-bc4e-b9d65c798982"
      },
      "source": [
        "analogy_scores = glove_vectors.evaluate_word_analogies(datapath('questions-words.txt'))"
      ],
      "execution_count": 17,
      "outputs": [
        {
          "output_type": "stream",
          "text": [
            "2021-06-19 06:40:00,144 : INFO : Evaluating word analogies for top 300000 words in the model on /usr/local/lib/python3.7/dist-packages/gensim/test/test_data/questions-words.txt\n",
            "2021-06-19 06:40:07,187 : INFO : capital-common-countries: 2.2% (11/506)\n",
            "2021-06-19 06:40:43,125 : INFO : capital-world: 0.2% (6/2592)\n",
            "2021-06-19 06:40:44,599 : INFO : currency: 0.0% (0/108)\n",
            "2021-06-19 06:41:18,267 : INFO : city-in-state: 0.1% (3/2402)\n",
            "2021-06-19 06:41:24,039 : INFO : family: 27.6% (116/420)\n",
            "2021-06-19 06:41:38,031 : INFO : gram1-adjective-to-adverb: 0.9% (9/992)\n",
            "2021-06-19 06:41:46,374 : INFO : gram2-opposite: 0.3% (2/600)\n",
            "2021-06-19 06:42:04,545 : INFO : gram3-comparative: 3.8% (50/1332)\n",
            "2021-06-19 06:42:17,249 : INFO : gram4-superlative: 2.8% (26/930)\n",
            "2021-06-19 06:42:31,568 : INFO : gram5-present-participle: 6.0% (63/1056)\n",
            "2021-06-19 06:42:53,707 : INFO : gram6-nationality-adjective: 6.8% (109/1599)\n",
            "2021-06-19 06:43:15,349 : INFO : gram7-past-tense: 6.8% (106/1560)\n",
            "2021-06-19 06:43:30,648 : INFO : gram8-plural: 5.7% (64/1122)\n",
            "2021-06-19 06:43:41,526 : INFO : gram9-plural-verbs: 4.9% (40/812)\n",
            "2021-06-19 06:43:41,529 : INFO : Quadruplets with out-of-vocabulary words: 18.0%\n",
            "2021-06-19 06:43:41,544 : INFO : NB: analogies containing OOV words were skipped from evaluation! To change this behavior, use \"dummy4unknown=True\"\n",
            "2021-06-19 06:43:41,546 : INFO : Total accuracy: 3.8% (605/16031)\n"
          ],
          "name": "stderr"
        }
      ]
    },
    {
      "cell_type": "code",
      "metadata": {
        "colab": {
          "base_uri": "https://localhost:8080/"
        },
        "id": "ANR_vruP17lz",
        "outputId": "09cdabc6-9c2e-4951-c483-792f2f55ccad"
      },
      "source": [
        "analogy_scores[0]"
      ],
      "execution_count": 18,
      "outputs": [
        {
          "output_type": "execute_result",
          "data": {
            "text/plain": [
              "0.03773937995134427"
            ]
          },
          "metadata": {
            "tags": []
          },
          "execution_count": 18
        }
      ]
    },
    {
      "cell_type": "code",
      "metadata": {
        "colab": {
          "base_uri": "https://localhost:8080/"
        },
        "id": "NO6ofvV12ANR",
        "outputId": "64610bff-2cd4-45c6-d299-2384ec16deef"
      },
      "source": [
        "similarities = glove_vectors.evaluate_word_pairs(datapath('wordsim353.tsv'))"
      ],
      "execution_count": 19,
      "outputs": [
        {
          "output_type": "stream",
          "text": [
            "2021-06-19 06:43:54,165 : INFO : Pearson correlation coefficient against /usr/local/lib/python3.7/dist-packages/gensim/test/test_data/wordsim353.tsv: 0.2519\n",
            "2021-06-19 06:43:54,169 : INFO : Spearman rank-order correlation coefficient against /usr/local/lib/python3.7/dist-packages/gensim/test/test_data/wordsim353.tsv: 0.2624\n",
            "2021-06-19 06:43:54,171 : INFO : Pairs with unknown words ratio: 0.3%\n"
          ],
          "name": "stderr"
        }
      ]
    },
    {
      "cell_type": "code",
      "metadata": {
        "colab": {
          "base_uri": "https://localhost:8080/"
        },
        "id": "bLkOy1xM2EtZ",
        "outputId": "2ecb7de6-a2e6-4deb-85b2-5aed57556348"
      },
      "source": [
        "similarities[0]"
      ],
      "execution_count": 20,
      "outputs": [
        {
          "output_type": "execute_result",
          "data": {
            "text/plain": [
              "(0.25192968339550137, 1.690891094581889e-06)"
            ]
          },
          "metadata": {
            "tags": []
          },
          "execution_count": 20
        }
      ]
    }
  ]
}