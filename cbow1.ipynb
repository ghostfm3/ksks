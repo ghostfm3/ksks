{
  "nbformat": 4,
  "nbformat_minor": 0,
  "metadata": {
    "colab": {
      "name": "cbow1.ipynb",
      "provenance": [],
      "collapsed_sections": [],
      "authorship_tag": "ABX9TyNo2LUZepLWeV2zUrAG4J/V",
      "include_colab_link": true
    },
    "kernelspec": {
      "name": "python3",
      "display_name": "Python 3"
    }
  },
  "cells": [
    {
      "cell_type": "markdown",
      "metadata": {
        "id": "view-in-github",
        "colab_type": "text"
      },
      "source": [
        "<a href=\"https://colab.research.google.com/github/ghostfm3/ksks/blob/master/cbow1.ipynb\" target=\"_parent\"><img src=\"https://colab.research.google.com/assets/colab-badge.svg\" alt=\"Open In Colab\"/></a>"
      ]
    },
    {
      "cell_type": "code",
      "metadata": {
        "colab": {
          "base_uri": "https://localhost:8080/"
        },
        "id": "rUMWe34qioKH",
        "outputId": "b1dac8f4-bc8a-4bbf-a0e5-6892bfb8b0f6"
      },
      "source": [
        "import sys\r\n",
        "sys.path.append('..')\r\n",
        "import numpy as np\r\n",
        "class MatMul:\r\n",
        "  def __init__(self, W):\r\n",
        "    self.params = [W]\r\n",
        "    self.grads = [np.zeros_like(W)]\r\n",
        "    self.x = None\r\n",
        "  \r\n",
        "  def forward(self, x):\r\n",
        "    W, = self.params\r\n",
        "    out = np.dot(x, W)\r\n",
        "    self.x = x\r\n",
        "    return out\r\n",
        "  \r\n",
        "  def backward(self, dout):\r\n",
        "    W, = self.params\r\n",
        "    dx = np.dot(dout, W.T)\r\n",
        "    dw = np.dot(self.x.T, dout)\r\n",
        "    self.grads[0][...] = dw\r\n",
        "    return dx\r\n",
        "\r\n",
        "c0 = np.array([[1, 0, 0, 0, 0, 0, 0]])\r\n",
        "c1 = np.array([[0, 0, 1, 0, 0, 0, 0]])\r\n",
        "\r\n",
        "W_in = np.random.randn(7, 3)\r\n",
        "W_out = np.random.randn(3, 7)\r\n",
        "\r\n",
        "in_layer0 = MatMul(W_in)\r\n",
        "in_layer1 = MatMul(W_in)\r\n",
        "out_layer = MatMul(W_out)\r\n",
        "\r\n",
        "h0 = in_layer0.forward(c0)\r\n",
        "h1 = in_layer1.forward(c1)\r\n",
        "h = 0.5 * (h0 + h1)\r\n",
        "s = out_layer.forward(h)\r\n",
        "\r\n",
        "print(s)"
      ],
      "execution_count": 2,
      "outputs": [
        {
          "output_type": "stream",
          "text": [
            "[[-1.51679543  0.22222566 -2.9557316   0.71952961 -2.48913525  0.97991983\n",
            "  -1.4767678 ]]\n"
          ],
          "name": "stdout"
        }
      ]
    }
  ]
}