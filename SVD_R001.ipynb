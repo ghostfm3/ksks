{
  "nbformat": 4,
  "nbformat_minor": 0,
  "metadata": {
    "colab": {
      "name": "SVD02.ipynb",
      "provenance": [],
      "collapsed_sections": [],
      "authorship_tag": "ABX9TyNPJqLjWgQY8k+CIz6CV9Ra",
      "include_colab_link": true
    },
    "kernelspec": {
      "name": "python3",
      "display_name": "Python 3"
    }
  },
  "cells": [
    {
      "cell_type": "markdown",
      "metadata": {
        "id": "view-in-github",
        "colab_type": "text"
      },
      "source": [
        "<a href=\"https://colab.research.google.com/github/ghostfm3/ksks/blob/master/SVD_R001.ipynb\" target=\"_parent\"><img src=\"https://colab.research.google.com/assets/colab-badge.svg\" alt=\"Open In Colab\"/></a>"
      ]
    },
    {
      "cell_type": "code",
      "metadata": {
        "colab": {
          "base_uri": "https://localhost:8080/"
        },
        "id": "1Pf-nhQonOpu",
        "outputId": "b569a9ae-3a4b-44ff-fd4f-f48efb608661"
      },
      "source": [
        "!apt-get -q -y install sudo file mecab libmecab-dev mecab-ipadic-utf8 git curl python-mecab > /dev/null\r\n",
        "!git clone --depth 1 https://github.com/neologd/mecab-ipadic-neologd.git > /dev/null \r\n",
        "!echo yes | mecab-ipadic-neologd/bin/install-mecab-ipadic-neologd -n > /dev/null 2>&1\r\n",
        "!pip install mecab-python3 > /dev/null\r\n",
        "!echo mecab-config --dicdir\"/mecab-ipadic-neologd\""
      ],
      "execution_count": 2,
      "outputs": [
        {
          "output_type": "stream",
          "text": [
            "Cloning into 'mecab-ipadic-neologd'...\n",
            "remote: Enumerating objects: 75, done.\u001b[K\n",
            "remote: Counting objects: 100% (75/75), done.\u001b[K\n",
            "remote: Compressing objects: 100% (74/74), done.\u001b[K\n",
            "remote: Total 75 (delta 5), reused 54 (delta 0), pack-reused 0\u001b[K\n",
            "Unpacking objects: 100% (75/75), done.\n",
            "mecab-config --dicdir/mecab-ipadic-neologd\n"
          ],
          "name": "stdout"
        }
      ]
    },
    {
      "cell_type": "code",
      "metadata": {
        "colab": {
          "base_uri": "https://localhost:8080/"
        },
        "id": "5Lw0OvYknZJ7",
        "outputId": "b9b14aef-8739-4b8b-e8ff-fff8ddb2c0c0"
      },
      "source": [
        "pip install unidic-lite"
      ],
      "execution_count": 3,
      "outputs": [
        {
          "output_type": "stream",
          "text": [
            "Collecting unidic-lite\n",
            "\u001b[?25l  Downloading https://files.pythonhosted.org/packages/74/d2/a4233f65f718f27065a4cf23a2c4f05d8bd4c75821e092060c4efaf28e66/unidic-lite-1.0.7.tar.gz (47.3MB)\n",
            "\u001b[K     |████████████████████████████████| 47.3MB 93kB/s \n",
            "\u001b[?25hBuilding wheels for collected packages: unidic-lite\n",
            "  Building wheel for unidic-lite (setup.py) ... \u001b[?25l\u001b[?25hdone\n",
            "  Created wheel for unidic-lite: filename=unidic_lite-1.0.7-cp36-none-any.whl size=47556593 sha256=40a92ff3849086a1e0e61c298c284d8c0ed85de6f9070b2c794f2f3777205bd2\n",
            "  Stored in directory: /root/.cache/pip/wheels/a8/82/7d/086724645e33a575aafd0b1dae2835c37d2c00c6a0a96ee3a0\n",
            "Successfully built unidic-lite\n",
            "Installing collected packages: unidic-lite\n",
            "Successfully installed unidic-lite-1.0.7\n"
          ],
          "name": "stdout"
        }
      ]
    },
    {
      "cell_type": "code",
      "metadata": {
        "colab": {
          "base_uri": "https://localhost:8080/"
        },
        "id": "j6fBl8gIXcOL",
        "outputId": "3d5df016-afc8-4c7d-8f17-a02896415540"
      },
      "source": [
        "import numpy as np\r\n",
        "import sys\r\n",
        "import MeCab\r\n",
        "sys.path.append('..')\r\n",
        "def preprocess(text):\r\n",
        "  text = text.lower()\r\n",
        "  text = text.replace('.', ' .')\r\n",
        "  words = text.split(' ')\r\n",
        "\r\n",
        "  word_to_id = {}\r\n",
        "  id_to_word = {}\r\n",
        "  for word in words:\r\n",
        "    if word not in word_to_id:\r\n",
        "      new_id = len(word_to_id)\r\n",
        "      word_to_id[word] = new_id\r\n",
        "      id_to_word[new_id] = word \r\n",
        "  \r\n",
        "  corpus = np.array([word_to_id[w] for w in words])\r\n",
        "  return corpus, word_to_id, id_to_word\r\n",
        "\r\n",
        "def wakati(text):\r\n",
        "    tagger = MeCab.Tagger('')\r\n",
        "    tagger.parse('') \r\n",
        "    node = tagger.parseToNode(text)\r\n",
        "    word_list = []\r\n",
        "     \r\n",
        "    while node:\r\n",
        "        pos = node.feature.split(\",\")[0]\r\n",
        "        #品詞を選択\r\n",
        "        if pos in [\"名詞\",\"動詞\",\"助詞\",\"形容詞\",\"代名詞\",\"助動詞\"]: \r\n",
        "            word = node.surface\r\n",
        "            word_list.append(word)\r\n",
        "        node = node.next\r\n",
        "         \r\n",
        "    return \" \".join(word_list)\r\n",
        "\r\n",
        "#m = MeCab.Tagger('-O wakati')\r\n",
        "#sentence = m.parse('吾輩は猫である。名前はまだ無い。')\r\n",
        "#text = sentence\r\n",
        "text1 = 'PPIとはプロトンポンプ阻害薬のことです'\r\n",
        "text = wakati(text1)\r\n",
        "corpus, word_to_id, id_to_word = preprocess(text)\r\n",
        "print(corpus)\r\n",
        "\r\n",
        "print(id_to_word)"
      ],
      "execution_count": 5,
      "outputs": [
        {
          "output_type": "stream",
          "text": [
            "[0 1 2 3 4 5 6 7 8]\n",
            "{0: 'ppi', 1: 'と', 2: 'は', 3: 'プロトン', 4: 'ポンプ', 5: '阻害', 6: 'の', 7: 'こと', 8: 'です'}\n"
          ],
          "name": "stdout"
        }
      ]
    },
    {
      "cell_type": "code",
      "metadata": {
        "id": "A5W-WP-VneHg"
      },
      "source": [
        "import sys\r\n",
        "sys.path.append('..')\r\n",
        "import numpy as np\r\n",
        "import matplotlib.pyplot as plt\r\n",
        "import MeCab\r\n",
        "\r\n",
        "def preprocess(text):\r\n",
        "    text = text.lower()\r\n",
        "    text = text.replace('.', ' .')\r\n",
        "    words = text.split(' ')\r\n",
        "\r\n",
        "    word_to_id = {}\r\n",
        "    id_to_word = {}\r\n",
        "    for word in words:\r\n",
        "        if word not in word_to_id:\r\n",
        "            new_id = len(word_to_id)\r\n",
        "            word_to_id[word] = new_id\r\n",
        "            id_to_word[new_id] = word\r\n",
        "\r\n",
        "    corpus = np.array([word_to_id[w] for w in words])\r\n",
        "\r\n",
        "    return corpus, word_to_id, id_to_word\r\n",
        "\r\n",
        "def create_co_matrix(corpus, vocab_size, window_size=1):\r\n",
        "    '''共起行列の作成\r\n",
        "    :param corpus: コーパス（単語IDのリスト）\r\n",
        "    :param vocab_size:語彙数\r\n",
        "    :param window_size:ウィンドウサイズ（ウィンドウサイズが1のときは、単語の左右1単語がコンテキスト）\r\n",
        "    :return: 共起行列\r\n",
        "    '''\r\n",
        "    corpus_size = len(corpus)\r\n",
        "    co_matrix = np.zeros((vocab_size, vocab_size), dtype=np.int32)\r\n",
        "\r\n",
        "    for idx, word_id in enumerate(corpus):\r\n",
        "        for i in range(1, window_size + 1):\r\n",
        "            left_idx = idx - i\r\n",
        "            right_idx = idx + i\r\n",
        "\r\n",
        "            if left_idx >= 0:\r\n",
        "                left_word_id = corpus[left_idx]\r\n",
        "                co_matrix[word_id, left_word_id] += 1\r\n",
        "\r\n",
        "            if right_idx < corpus_size:\r\n",
        "                right_word_id = corpus[right_idx]\r\n",
        "                co_matrix[word_id, right_word_id] += 1\r\n",
        "\r\n",
        "    return co_matrix\r\n",
        "\r\n",
        "def ppmi(C, verbose=False, eps = 1e-8):\r\n",
        "    '''PPMI（正の相互情報量）の作成\r\n",
        "    :param C: 共起行列\r\n",
        "    :param verbose: 進行状況を出力するかどうか\r\n",
        "    :return:\r\n",
        "    '''\r\n",
        "    M = np.zeros_like(C, dtype=np.float32)\r\n",
        "    N = np.sum(C)\r\n",
        "    S = np.sum(C, axis=0)\r\n",
        "    total = C.shape[0] * C.shape[1]\r\n",
        "    cnt = 0\r\n",
        "\r\n",
        "    for i in range(C.shape[0]):\r\n",
        "        for j in range(C.shape[1]):\r\n",
        "            pmi = np.log2(C[i, j] * N / (S[j]*S[i]) + eps)\r\n",
        "            M[i, j] = max(0, pmi)\r\n",
        "\r\n",
        "            if verbose:\r\n",
        "                cnt += 1\r\n",
        "                if cnt % (total//100 + 1) == 0:\r\n",
        "                    print('%.1f%% done' % (100*cnt/total))\r\n",
        "    return M\r\n",
        "\r\n",
        "def wakati(text):\r\n",
        "    tagger = MeCab.Tagger('')\r\n",
        "    tagger.parse('') \r\n",
        "    node = tagger.parseToNode(text)\r\n",
        "    word_list = []\r\n",
        "     \r\n",
        "    while node:\r\n",
        "        pos = node.feature.split(\",\")[0]\r\n",
        "        #品詞を選択\r\n",
        "        if pos in [\"名詞\",\"動詞\",\"助詞\",\"副詞\",\"形容詞\",\"代名詞\",\"助動詞\"]: \r\n",
        "            word = node.surface\r\n",
        "            word_list.append(word)\r\n",
        "        node = node.next\r\n",
        "         \r\n",
        "    return \" \".join(word_list)\r\n",
        "\r\n",
        "\r\n",
        "\r\n",
        "text1 = 'PPIとはプロトンポンプ阻害薬のことです'\r\n",
        "text = wakati(text1)\r\n",
        "#text='You say goodbye and I say hello'\r\n",
        "corpus, word_to_id, id_to_word = preprocess(text)\r\n",
        "vocab_size = len(id_to_word)\r\n",
        "C = create_co_matrix(corpus, vocab_size, window_size=1)\r\n",
        "W = ppmi(C)\r\n",
        "\r\n",
        "U, S, V = np.linalg.svd(W)"
      ],
      "execution_count": 13,
      "outputs": []
    },
    {
      "cell_type": "code",
      "metadata": {
        "colab": {
          "base_uri": "https://localhost:8080/"
        },
        "id": "OFqST1uOnyoG",
        "outputId": "f8fdd12b-3f46-416f-a717-f11013624551"
      },
      "source": [
        "print(C[0])"
      ],
      "execution_count": 14,
      "outputs": [
        {
          "output_type": "stream",
          "text": [
            "[0 1 0 0 0 0 0 0 0]\n"
          ],
          "name": "stdout"
        }
      ]
    },
    {
      "cell_type": "code",
      "metadata": {
        "colab": {
          "base_uri": "https://localhost:8080/"
        },
        "id": "nvG7wMEMn2vz",
        "outputId": "133f0ce8-fae5-45dd-deef-6425866a6cd4"
      },
      "source": [
        "print(W[0])"
      ],
      "execution_count": 15,
      "outputs": [
        {
          "output_type": "stream",
          "text": [
            "[0. 3. 0. 0. 0. 0. 0. 0. 0.]\n"
          ],
          "name": "stdout"
        }
      ]
    },
    {
      "cell_type": "code",
      "metadata": {
        "colab": {
          "base_uri": "https://localhost:8080/"
        },
        "id": "SCngJsrZn7wc",
        "outputId": "56810ed8-4788-4126-9486-bef36a779085"
      },
      "source": [
        "print(id_to_word[0],U[0, :5])\r\n",
        "print(id_to_word[1],U[1, :5])\r\n",
        "print(id_to_word[2],U[2, :5])\r\n",
        "print(id_to_word[3],U[3, :5])\r\n",
        "print(id_to_word[4],U[4, :5])\r\n",
        "print(id_to_word[5],U[5, :5])\r\n",
        "print(id_to_word[6],U[6, :5])\r\n",
        "print(id_to_word[7],U[7, :5])\r\n",
        "print(id_to_word[8],U[8, :5])"
      ],
      "execution_count": 22,
      "outputs": [
        {
          "output_type": "stream",
          "text": [
            "ppi [ 0.          0.39113787 -0.52034736  0.         -0.48241627]\n",
            "と [-0.53010255  0.          0.          0.66094804  0.        ]\n",
            "は [ 0.          0.49095163 -0.4787887   0.          0.0427042 ]\n",
            "プロトン [-0.46796507  0.          0.          0.251292    0.        ]\n",
            "ポンプ [0.0000000e+00 4.6038607e-01 1.1574242e-17 0.0000000e+00 7.2863007e-01]\n",
            "阻害 [-0.46796507  0.          0.         -0.251292    0.        ]\n",
            "の [0.         0.49095163 0.4787887  0.         0.0427042 ]\n",
            "こと [-0.53010255  0.          0.         -0.66094804  0.        ]\n",
            "です [ 0.          0.39113787  0.52034736  0.         -0.48241627]\n"
          ],
          "name": "stdout"
        }
      ]
    }
  ]
}