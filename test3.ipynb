{
  "nbformat": 4,
  "nbformat_minor": 0,
  "metadata": {
    "colab": {
      "name": "test3.ipynb",
      "provenance": [],
      "collapsed_sections": [],
      "authorship_tag": "ABX9TyOQ1qMr0LCExK1nqPzPxywO",
      "include_colab_link": true
    },
    "kernelspec": {
      "name": "python3",
      "display_name": "Python 3"
    },
    "language_info": {
      "name": "python"
    }
  },
  "cells": [
    {
      "cell_type": "markdown",
      "metadata": {
        "id": "view-in-github",
        "colab_type": "text"
      },
      "source": [
        "<a href=\"https://colab.research.google.com/github/ghostfm3/ksks/blob/master/test3.ipynb\" target=\"_parent\"><img src=\"https://colab.research.google.com/assets/colab-badge.svg\" alt=\"Open In Colab\"/></a>"
      ]
    },
    {
      "cell_type": "code",
      "metadata": {
        "id": "komCA4wgpsIk"
      },
      "source": [
        "import pandas as pd\n",
        "import numpy as np"
      ],
      "execution_count": 1,
      "outputs": []
    },
    {
      "cell_type": "code",
      "metadata": {
        "id": "hKiwJ5j8qFrd"
      },
      "source": [
        "vectors = pd.read_csv('mvector1.txt', delimiter=' ', index_col=0, header=None)"
      ],
      "execution_count": 2,
      "outputs": []
    },
    {
      "cell_type": "code",
      "metadata": {
        "id": "g2Rlk0HEqJts"
      },
      "source": [
        "vector = vectors.loc['ある',:].values"
      ],
      "execution_count": 3,
      "outputs": []
    },
    {
      "cell_type": "code",
      "metadata": {
        "colab": {
          "base_uri": "https://localhost:8080/"
        },
        "id": "egNUfBHVqOC6",
        "outputId": "ea54fec4-f933-4197-f95e-a157900b68fc"
      },
      "source": [
        "vector"
      ],
      "execution_count": 4,
      "outputs": [
        {
          "output_type": "execute_result",
          "data": {
            "text/plain": [
              "array([-0.01053 ,  0.001921, -0.005529, -0.009985,  0.024027,  0.000558,\n",
              "       -0.006737,  0.01657 ,  0.006923,  0.003027, -0.01076 , -0.011361,\n",
              "        0.004255,  0.003162, -0.004495,  0.012959, -0.004114,  0.023734,\n",
              "       -0.016751,  0.010121, -0.012657, -0.019997, -0.017413,  0.02283 ,\n",
              "       -0.00151 , -0.023134, -0.003017,  0.001089,  0.00044 ,  0.02089 ,\n",
              "        0.005743, -0.027956, -0.007322, -0.019295, -0.01265 , -0.016288,\n",
              "       -0.000289, -0.014804,  0.009589,  0.017714, -0.029746, -0.011373,\n",
              "       -0.022922,  0.015027, -0.02606 , -0.003655,  0.00605 ,  0.003431,\n",
              "       -0.011669,  0.01037 ])"
            ]
          },
          "metadata": {
            "tags": []
          },
          "execution_count": 4
        }
      ]
    },
    {
      "cell_type": "code",
      "metadata": {
        "id": "ZdHY3ExjqQmN"
      },
      "source": [
        "with open('mvector1.txt', 'r') as original, open('gvm2.txt', 'w') as transformed:\n",
        "    vocab_count = vectors.shape[0]  # 単語数\n",
        "    size = vectors.shape[1]  # 次元数\n",
        "    \n",
        "    transformed.write(f'{vocab_count} {size}\\n')\n",
        "    transformed.write(original.read())  # 2行目以降はそのまま出力"
      ],
      "execution_count": 5,
      "outputs": []
    },
    {
      "cell_type": "code",
      "metadata": {
        "id": "s64GeswoqUaE"
      },
      "source": [
        "from gensim.models import KeyedVectors\n",
        "\n",
        "glove_vectors = KeyedVectors.load_word2vec_format('gvm2.txt', binary=False)"
      ],
      "execution_count": 6,
      "outputs": []
    },
    {
      "cell_type": "code",
      "metadata": {
        "colab": {
          "base_uri": "https://localhost:8080/"
        },
        "id": "AwLc8AmwqZw5",
        "outputId": "fa100bcb-b87a-430a-f8fd-9f68a95c4983"
      },
      "source": [
        "glove_vectors.wv[\"風呂敷\"]"
      ],
      "execution_count": 7,
      "outputs": [
        {
          "output_type": "stream",
          "text": [
            "/usr/local/lib/python3.7/dist-packages/ipykernel_launcher.py:1: DeprecationWarning: Call to deprecated `wv` (Attribute will be removed in 4.0.0, use self instead).\n",
            "  \"\"\"Entry point for launching an IPython kernel.\n"
          ],
          "name": "stderr"
        },
        {
          "output_type": "execute_result",
          "data": {
            "text/plain": [
              "array([-0.005248,  0.036201,  0.025563,  0.012855,  0.019554, -0.004004,\n",
              "       -0.034304,  0.024881, -0.003953,  0.004425, -0.016672, -0.029615,\n",
              "       -0.003563, -0.007658, -0.015799,  0.011553, -0.008146,  0.011862,\n",
              "       -0.018155, -0.002302, -0.002482, -0.005579,  0.025035, -0.018372,\n",
              "        0.010192,  0.00038 , -0.007443,  0.022528,  0.001389, -0.005123,\n",
              "       -0.019828, -0.013797, -0.017759, -0.016922, -0.017704, -0.000865,\n",
              "        0.020693,  0.013335, -0.003254, -0.02434 ,  0.014846, -0.004471,\n",
              "        0.016014, -0.014765, -0.005738,  0.047808,  0.02175 , -0.001314,\n",
              "       -0.023892,  0.001572], dtype=float32)"
            ]
          },
          "metadata": {
            "tags": []
          },
          "execution_count": 7
        }
      ]
    },
    {
      "cell_type": "code",
      "metadata": {
        "colab": {
          "base_uri": "https://localhost:8080/"
        },
        "id": "DvUFqlLgqmYh",
        "outputId": "c100690d-dc49-47fe-b63a-f4e37789c0f6"
      },
      "source": [
        "glove_vectors.most_similar('風呂敷')"
      ],
      "execution_count": 8,
      "outputs": [
        {
          "output_type": "execute_result",
          "data": {
            "text/plain": [
              "[('大きな', 0.8990566730499268),\n",
              " ('包み', 0.8708498477935791),\n",
              " ('<unk>', 0.8226966261863708),\n",
              " ('らしい', 0.7143315672874451),\n",
              " ('まで', 0.7057325839996338),\n",
              " ('つ', 0.6981174945831299),\n",
              " ('象徴', 0.6972604393959045),\n",
              " ('匂', 0.6791955828666687),\n",
              " ('笛', 0.6721846461296082),\n",
              " ('二', 0.6657794713973999)]"
            ]
          },
          "metadata": {
            "tags": []
          },
          "execution_count": 8
        }
      ]
    }
  ]
}