{
  "nbformat": 4,
  "nbformat_minor": 0,
  "metadata": {
    "colab": {
      "name": "w2vtask.ipynb",
      "provenance": [],
      "collapsed_sections": [],
      "authorship_tag": "ABX9TyPDUhkW3oeVEQxjvFHurGMv",
      "include_colab_link": true
    },
    "kernelspec": {
      "name": "python3",
      "display_name": "Python 3"
    },
    "language_info": {
      "name": "python"
    }
  },
  "cells": [
    {
      "cell_type": "markdown",
      "metadata": {
        "id": "view-in-github",
        "colab_type": "text"
      },
      "source": [
        "<a href=\"https://colab.research.google.com/github/ghostfm3/ksks/blob/master/w2vtask.ipynb\" target=\"_parent\"><img src=\"https://colab.research.google.com/assets/colab-badge.svg\" alt=\"Open In Colab\"/></a>"
      ]
    },
    {
      "cell_type": "code",
      "metadata": {
        "id": "aTvEtcjT24UB"
      },
      "source": [
        "import logging\n",
        "import gensim\n",
        "from gensim.models.word2vec import Word2Vec, Text8Corpus"
      ],
      "execution_count": 4,
      "outputs": []
    },
    {
      "cell_type": "code",
      "metadata": {
        "id": "lZoin3zF5Q-0"
      },
      "source": [
        "enwiki-20150112-400-r100-10576.txt"
      ],
      "execution_count": 3,
      "outputs": []
    },
    {
      "cell_type": "code",
      "metadata": {
        "id": "0ZjlxcoT595U"
      },
      "source": [
        "logging.basicConfig(format='%(asctime)s : %(levelname)s : %(message)s', level = logging.INFO)"
      ],
      "execution_count": 5,
      "outputs": []
    },
    {
      "cell_type": "code",
      "metadata": {
        "id": "lybn5tMA7JlB"
      },
      "source": [
        "import codecs\n",
        "with codecs.open(\"enwiki-20150112-400-r100-10576.txt\", \"r\", \"utf-8\",errors='ignore') as f:\n",
        "    corpus = f.read().splitlines()\n",
        "\n",
        "corpus = [sentence.split() for sentence in corpus]"
      ],
      "execution_count": 13,
      "outputs": []
    },
    {
      "cell_type": "code",
      "metadata": {
        "colab": {
          "base_uri": "https://localhost:8080/"
        },
        "id": "FbcdYKDR7X9l",
        "outputId": "a0ebf166-ca4f-45c3-bf83-aebd8d4c741c"
      },
      "source": [
        "model = Word2Vec(corpus, size=50, window=15,sg=0)"
      ],
      "execution_count": 14,
      "outputs": [
        {
          "output_type": "stream",
          "text": [
            "2021-06-19 06:30:41,238 : WARNING : consider setting layer size to a multiple of 4 for greater performance\n",
            "2021-06-19 06:30:41,241 : INFO : collecting all words and their counts\n",
            "2021-06-19 06:30:41,242 : INFO : PROGRESS: at sentence #0, processed 0 words, keeping 0 word types\n",
            "2021-06-19 06:30:41,382 : INFO : PROGRESS: at sentence #10000, processed 529954 words, keeping 72955 word types\n",
            "2021-06-19 06:30:41,515 : INFO : PROGRESS: at sentence #20000, processed 992941 words, keeping 113646 word types\n",
            "2021-06-19 06:30:41,635 : INFO : PROGRESS: at sentence #30000, processed 1426191 words, keeping 145664 word types\n",
            "2021-06-19 06:30:41,769 : INFO : PROGRESS: at sentence #40000, processed 1888505 words, keeping 178070 word types\n",
            "2021-06-19 06:30:41,903 : INFO : PROGRESS: at sentence #50000, processed 2338215 words, keeping 206925 word types\n",
            "2021-06-19 06:30:42,036 : INFO : PROGRESS: at sentence #60000, processed 2784673 words, keeping 234283 word types\n",
            "2021-06-19 06:30:42,184 : INFO : PROGRESS: at sentence #70000, processed 3229953 words, keeping 260643 word types\n",
            "2021-06-19 06:30:42,304 : INFO : PROGRESS: at sentence #80000, processed 3624961 words, keeping 283864 word types\n",
            "2021-06-19 06:30:42,432 : INFO : PROGRESS: at sentence #90000, processed 4026559 words, keeping 306961 word types\n",
            "2021-06-19 06:30:42,562 : INFO : PROGRESS: at sentence #100000, processed 4448721 words, keeping 328962 word types\n",
            "2021-06-19 06:30:42,696 : INFO : PROGRESS: at sentence #110000, processed 4868143 words, keeping 351242 word types\n",
            "2021-06-19 06:30:42,832 : INFO : PROGRESS: at sentence #120000, processed 5291048 words, keeping 372090 word types\n",
            "2021-06-19 06:30:42,964 : INFO : PROGRESS: at sentence #130000, processed 5680874 words, keeping 391782 word types\n",
            "2021-06-19 06:30:43,122 : INFO : PROGRESS: at sentence #140000, processed 6107213 words, keeping 412903 word types\n",
            "2021-06-19 06:30:43,258 : INFO : PROGRESS: at sentence #150000, processed 6503717 words, keeping 430720 word types\n",
            "2021-06-19 06:30:43,402 : INFO : PROGRESS: at sentence #160000, processed 6912197 words, keeping 449835 word types\n",
            "2021-06-19 06:30:43,526 : INFO : PROGRESS: at sentence #170000, processed 7276344 words, keeping 466587 word types\n",
            "2021-06-19 06:30:43,658 : INFO : PROGRESS: at sentence #180000, processed 7667527 words, keeping 483711 word types\n",
            "2021-06-19 06:30:43,789 : INFO : PROGRESS: at sentence #190000, processed 8068153 words, keeping 502098 word types\n",
            "2021-06-19 06:30:43,928 : INFO : PROGRESS: at sentence #200000, processed 8487613 words, keeping 520959 word types\n",
            "2021-06-19 06:30:44,074 : INFO : PROGRESS: at sentence #210000, processed 8902686 words, keeping 539900 word types\n",
            "2021-06-19 06:30:44,209 : INFO : PROGRESS: at sentence #220000, processed 9325875 words, keeping 557122 word types\n",
            "2021-06-19 06:30:44,347 : INFO : PROGRESS: at sentence #230000, processed 9732536 words, keeping 573995 word types\n",
            "2021-06-19 06:30:44,484 : INFO : PROGRESS: at sentence #240000, processed 10153050 words, keeping 590945 word types\n",
            "2021-06-19 06:30:44,619 : INFO : PROGRESS: at sentence #250000, processed 10536645 words, keeping 607531 word types\n",
            "2021-06-19 06:30:44,757 : INFO : PROGRESS: at sentence #260000, processed 10943908 words, keeping 624382 word types\n",
            "2021-06-19 06:30:44,889 : INFO : PROGRESS: at sentence #270000, processed 11337300 words, keeping 640351 word types\n",
            "2021-06-19 06:30:45,021 : INFO : PROGRESS: at sentence #280000, processed 11733615 words, keeping 656518 word types\n",
            "2021-06-19 06:30:45,089 : INFO : collected 664295 word types from a corpus of 11902175 raw words and 284434 sentences\n",
            "2021-06-19 06:30:45,090 : INFO : Loading a fresh vocabulary\n",
            "2021-06-19 06:30:45,994 : INFO : effective_min_count=5 retains 111251 unique words (16% of original 664295, drops 553044)\n",
            "2021-06-19 06:30:45,996 : INFO : effective_min_count=5 leaves 11118397 word corpus (93% of original 11902175, drops 783778)\n",
            "2021-06-19 06:30:46,420 : INFO : deleting the raw counts dictionary of 664295 items\n",
            "2021-06-19 06:30:46,437 : INFO : sample=0.001 downsamples 28 most-common words\n",
            "2021-06-19 06:30:46,439 : INFO : downsampling leaves estimated 8666535 word corpus (77.9% of prior 11118397)\n",
            "2021-06-19 06:30:46,928 : INFO : estimated required memory for 111251 words and 50 dimensions: 100125900 bytes\n",
            "2021-06-19 06:30:46,932 : INFO : resetting layer weights\n",
            "2021-06-19 06:31:09,422 : INFO : training model with 3 workers on 111251 vocabulary and 50 features, using sg=0 hs=0 sample=0.001 negative=5 window=15\n",
            "2021-06-19 06:31:10,440 : INFO : EPOCH 1 - PROGRESS: at 4.50% examples, 478397 words/s, in_qsize 4, out_qsize 1\n",
            "2021-06-19 06:31:11,453 : INFO : EPOCH 1 - PROGRESS: at 10.07% examples, 489389 words/s, in_qsize 5, out_qsize 0\n",
            "2021-06-19 06:31:12,467 : INFO : EPOCH 1 - PROGRESS: at 15.22% examples, 488475 words/s, in_qsize 5, out_qsize 0\n",
            "2021-06-19 06:31:13,468 : INFO : EPOCH 1 - PROGRESS: at 20.31% examples, 485890 words/s, in_qsize 5, out_qsize 0\n",
            "2021-06-19 06:31:14,468 : INFO : EPOCH 1 - PROGRESS: at 25.79% examples, 488753 words/s, in_qsize 5, out_qsize 0\n",
            "2021-06-19 06:31:15,469 : INFO : EPOCH 1 - PROGRESS: at 31.83% examples, 487932 words/s, in_qsize 5, out_qsize 0\n",
            "2021-06-19 06:31:16,489 : INFO : EPOCH 1 - PROGRESS: at 37.43% examples, 486227 words/s, in_qsize 4, out_qsize 1\n",
            "2021-06-19 06:31:17,499 : INFO : EPOCH 1 - PROGRESS: at 42.99% examples, 484657 words/s, in_qsize 5, out_qsize 0\n",
            "2021-06-19 06:31:18,517 : INFO : EPOCH 1 - PROGRESS: at 48.64% examples, 483739 words/s, in_qsize 5, out_qsize 0\n",
            "2021-06-19 06:31:19,538 : INFO : EPOCH 1 - PROGRESS: at 54.46% examples, 482929 words/s, in_qsize 5, out_qsize 0\n",
            "2021-06-19 06:31:20,542 : INFO : EPOCH 1 - PROGRESS: at 60.64% examples, 483059 words/s, in_qsize 5, out_qsize 0\n",
            "2021-06-19 06:31:21,548 : INFO : EPOCH 1 - PROGRESS: at 66.36% examples, 481718 words/s, in_qsize 6, out_qsize 1\n",
            "2021-06-19 06:31:22,584 : INFO : EPOCH 1 - PROGRESS: at 72.13% examples, 481223 words/s, in_qsize 4, out_qsize 1\n",
            "2021-06-19 06:31:23,617 : INFO : EPOCH 1 - PROGRESS: at 77.79% examples, 481526 words/s, in_qsize 4, out_qsize 1\n",
            "2021-06-19 06:31:24,622 : INFO : EPOCH 1 - PROGRESS: at 83.49% examples, 481733 words/s, in_qsize 5, out_qsize 0\n",
            "2021-06-19 06:31:25,649 : INFO : EPOCH 1 - PROGRESS: at 89.26% examples, 480214 words/s, in_qsize 4, out_qsize 1\n",
            "2021-06-19 06:31:26,666 : INFO : EPOCH 1 - PROGRESS: at 95.35% examples, 480829 words/s, in_qsize 4, out_qsize 1\n",
            "2021-06-19 06:31:27,410 : INFO : worker thread finished; awaiting finish of 2 more threads\n",
            "2021-06-19 06:31:27,422 : INFO : worker thread finished; awaiting finish of 1 more threads\n",
            "2021-06-19 06:31:27,424 : INFO : worker thread finished; awaiting finish of 0 more threads\n",
            "2021-06-19 06:31:27,427 : INFO : EPOCH - 1 : training on 11902175 raw words (8667014 effective words) took 18.0s, 481535 effective words/s\n",
            "2021-06-19 06:31:28,436 : INFO : EPOCH 2 - PROGRESS: at 4.49% examples, 482006 words/s, in_qsize 5, out_qsize 0\n",
            "2021-06-19 06:31:29,449 : INFO : EPOCH 2 - PROGRESS: at 9.90% examples, 484233 words/s, in_qsize 5, out_qsize 0\n",
            "2021-06-19 06:31:30,451 : INFO : EPOCH 2 - PROGRESS: at 14.87% examples, 482027 words/s, in_qsize 5, out_qsize 0\n",
            "2021-06-19 06:31:31,477 : INFO : EPOCH 2 - PROGRESS: at 19.94% examples, 476107 words/s, in_qsize 4, out_qsize 1\n",
            "2021-06-19 06:31:32,484 : INFO : EPOCH 2 - PROGRESS: at 25.12% examples, 474511 words/s, in_qsize 3, out_qsize 2\n",
            "2021-06-19 06:31:33,488 : INFO : EPOCH 2 - PROGRESS: at 30.99% examples, 475986 words/s, in_qsize 6, out_qsize 1\n",
            "2021-06-19 06:31:34,521 : INFO : EPOCH 2 - PROGRESS: at 36.92% examples, 478092 words/s, in_qsize 5, out_qsize 0\n",
            "2021-06-19 06:31:35,524 : INFO : EPOCH 2 - PROGRESS: at 42.39% examples, 478035 words/s, in_qsize 4, out_qsize 1\n",
            "2021-06-19 06:31:36,527 : INFO : EPOCH 2 - PROGRESS: at 48.17% examples, 478652 words/s, in_qsize 5, out_qsize 0\n",
            "2021-06-19 06:31:37,533 : INFO : EPOCH 2 - PROGRESS: at 53.92% examples, 479051 words/s, in_qsize 3, out_qsize 2\n",
            "2021-06-19 06:31:38,537 : INFO : EPOCH 2 - PROGRESS: at 60.12% examples, 479517 words/s, in_qsize 4, out_qsize 1\n",
            "2021-06-19 06:31:39,558 : INFO : EPOCH 2 - PROGRESS: at 66.27% examples, 480926 words/s, in_qsize 5, out_qsize 0\n",
            "2021-06-19 06:31:40,565 : INFO : EPOCH 2 - PROGRESS: at 72.04% examples, 481535 words/s, in_qsize 5, out_qsize 0\n",
            "2021-06-19 06:31:41,565 : INFO : EPOCH 2 - PROGRESS: at 77.52% examples, 481910 words/s, in_qsize 5, out_qsize 0\n",
            "2021-06-19 06:31:42,571 : INFO : EPOCH 2 - PROGRESS: at 83.31% examples, 481990 words/s, in_qsize 5, out_qsize 0\n",
            "2021-06-19 06:31:43,592 : INFO : EPOCH 2 - PROGRESS: at 89.18% examples, 481591 words/s, in_qsize 5, out_qsize 0\n",
            "2021-06-19 06:31:44,603 : INFO : EPOCH 2 - PROGRESS: at 95.05% examples, 481494 words/s, in_qsize 4, out_qsize 1\n",
            "2021-06-19 06:31:45,410 : INFO : worker thread finished; awaiting finish of 2 more threads\n",
            "2021-06-19 06:31:45,415 : INFO : worker thread finished; awaiting finish of 1 more threads\n",
            "2021-06-19 06:31:45,427 : INFO : worker thread finished; awaiting finish of 0 more threads\n",
            "2021-06-19 06:31:45,428 : INFO : EPOCH - 2 : training on 11902175 raw words (8667585 effective words) took 18.0s, 481654 effective words/s\n",
            "2021-06-19 06:31:46,469 : INFO : EPOCH 3 - PROGRESS: at 4.60% examples, 482556 words/s, in_qsize 5, out_qsize 0\n",
            "2021-06-19 06:31:47,488 : INFO : EPOCH 3 - PROGRESS: at 10.14% examples, 486903 words/s, in_qsize 5, out_qsize 2\n",
            "2021-06-19 06:31:48,514 : INFO : EPOCH 3 - PROGRESS: at 15.44% examples, 489489 words/s, in_qsize 5, out_qsize 0\n",
            "2021-06-19 06:31:49,530 : INFO : EPOCH 3 - PROGRESS: at 20.69% examples, 486746 words/s, in_qsize 3, out_qsize 2\n",
            "2021-06-19 06:31:50,539 : INFO : EPOCH 3 - PROGRESS: at 26.03% examples, 487021 words/s, in_qsize 5, out_qsize 0\n",
            "2021-06-19 06:31:51,567 : INFO : EPOCH 3 - PROGRESS: at 32.06% examples, 484487 words/s, in_qsize 5, out_qsize 0\n",
            "2021-06-19 06:31:52,584 : INFO : EPOCH 3 - PROGRESS: at 37.41% examples, 480340 words/s, in_qsize 5, out_qsize 2\n",
            "2021-06-19 06:31:53,597 : INFO : EPOCH 3 - PROGRESS: at 43.09% examples, 480217 words/s, in_qsize 4, out_qsize 1\n",
            "2021-06-19 06:31:54,603 : INFO : EPOCH 3 - PROGRESS: at 48.83% examples, 481191 words/s, in_qsize 5, out_qsize 0\n",
            "2021-06-19 06:31:55,611 : INFO : EPOCH 3 - PROGRESS: at 54.56% examples, 480577 words/s, in_qsize 5, out_qsize 0\n",
            "2021-06-19 06:31:56,627 : INFO : EPOCH 3 - PROGRESS: at 60.80% examples, 481007 words/s, in_qsize 5, out_qsize 0\n",
            "2021-06-19 06:31:57,638 : INFO : EPOCH 3 - PROGRESS: at 66.70% examples, 480922 words/s, in_qsize 5, out_qsize 0\n",
            "2021-06-19 06:31:58,640 : INFO : EPOCH 3 - PROGRESS: at 72.26% examples, 480682 words/s, in_qsize 5, out_qsize 0\n",
            "2021-06-19 06:31:59,649 : INFO : EPOCH 3 - PROGRESS: at 77.86% examples, 481302 words/s, in_qsize 5, out_qsize 0\n",
            "2021-06-19 06:32:00,651 : INFO : EPOCH 3 - PROGRESS: at 83.57% examples, 481619 words/s, in_qsize 5, out_qsize 0\n",
            "2021-06-19 06:32:01,652 : INFO : EPOCH 3 - PROGRESS: at 89.44% examples, 481298 words/s, in_qsize 5, out_qsize 0\n",
            "2021-06-19 06:32:02,661 : INFO : EPOCH 3 - PROGRESS: at 95.45% examples, 481695 words/s, in_qsize 5, out_qsize 1\n",
            "2021-06-19 06:32:03,393 : INFO : worker thread finished; awaiting finish of 2 more threads\n",
            "2021-06-19 06:32:03,410 : INFO : worker thread finished; awaiting finish of 1 more threads\n",
            "2021-06-19 06:32:03,414 : INFO : worker thread finished; awaiting finish of 0 more threads\n",
            "2021-06-19 06:32:03,415 : INFO : EPOCH - 3 : training on 11902175 raw words (8668107 effective words) took 18.0s, 482116 effective words/s\n",
            "2021-06-19 06:32:04,424 : INFO : EPOCH 4 - PROGRESS: at 4.48% examples, 483023 words/s, in_qsize 5, out_qsize 0\n",
            "2021-06-19 06:32:05,425 : INFO : EPOCH 4 - PROGRESS: at 10.00% examples, 491266 words/s, in_qsize 5, out_qsize 0\n",
            "2021-06-19 06:32:06,440 : INFO : EPOCH 4 - PROGRESS: at 15.14% examples, 489526 words/s, in_qsize 5, out_qsize 0\n",
            "2021-06-19 06:32:07,452 : INFO : EPOCH 4 - PROGRESS: at 20.32% examples, 487132 words/s, in_qsize 5, out_qsize 0\n",
            "2021-06-19 06:32:08,460 : INFO : EPOCH 4 - PROGRESS: at 25.62% examples, 486186 words/s, in_qsize 5, out_qsize 0\n",
            "2021-06-19 06:32:09,474 : INFO : EPOCH 4 - PROGRESS: at 31.75% examples, 485992 words/s, in_qsize 5, out_qsize 0\n",
            "2021-06-19 06:32:10,497 : INFO : EPOCH 4 - PROGRESS: at 37.34% examples, 484229 words/s, in_qsize 6, out_qsize 1\n",
            "2021-06-19 06:32:11,514 : INFO : EPOCH 4 - PROGRESS: at 42.99% examples, 483435 words/s, in_qsize 3, out_qsize 2\n",
            "2021-06-19 06:32:12,528 : INFO : EPOCH 4 - PROGRESS: at 48.77% examples, 484425 words/s, in_qsize 5, out_qsize 0\n",
            "2021-06-19 06:32:13,542 : INFO : EPOCH 4 - PROGRESS: at 54.71% examples, 484613 words/s, in_qsize 5, out_qsize 0\n",
            "2021-06-19 06:32:14,565 : INFO : EPOCH 4 - PROGRESS: at 61.01% examples, 484363 words/s, in_qsize 5, out_qsize 0\n",
            "2021-06-19 06:32:15,581 : INFO : EPOCH 4 - PROGRESS: at 66.97% examples, 484324 words/s, in_qsize 5, out_qsize 0\n",
            "2021-06-19 06:32:16,601 : INFO : EPOCH 4 - PROGRESS: at 72.72% examples, 484254 words/s, in_qsize 5, out_qsize 0\n",
            "2021-06-19 06:32:17,622 : INFO : EPOCH 4 - PROGRESS: at 78.01% examples, 482665 words/s, in_qsize 4, out_qsize 1\n",
            "2021-06-19 06:32:18,626 : INFO : EPOCH 4 - PROGRESS: at 83.74% examples, 482842 words/s, in_qsize 4, out_qsize 1\n",
            "2021-06-19 06:32:19,635 : INFO : EPOCH 4 - PROGRESS: at 89.72% examples, 482665 words/s, in_qsize 4, out_qsize 1\n",
            "2021-06-19 06:32:20,656 : INFO : EPOCH 4 - PROGRESS: at 95.67% examples, 482652 words/s, in_qsize 3, out_qsize 2\n",
            "2021-06-19 06:32:21,342 : INFO : worker thread finished; awaiting finish of 2 more threads\n",
            "2021-06-19 06:32:21,360 : INFO : worker thread finished; awaiting finish of 1 more threads\n",
            "2021-06-19 06:32:21,365 : INFO : worker thread finished; awaiting finish of 0 more threads\n",
            "2021-06-19 06:32:21,366 : INFO : EPOCH - 4 : training on 11902175 raw words (8667440 effective words) took 17.9s, 483036 effective words/s\n",
            "2021-06-19 06:32:22,394 : INFO : EPOCH 5 - PROGRESS: at 4.55% examples, 480622 words/s, in_qsize 5, out_qsize 0\n",
            "2021-06-19 06:32:23,401 : INFO : EPOCH 5 - PROGRESS: at 10.23% examples, 495767 words/s, in_qsize 5, out_qsize 0\n",
            "2021-06-19 06:32:24,405 : INFO : EPOCH 5 - PROGRESS: at 15.37% examples, 494262 words/s, in_qsize 5, out_qsize 0\n",
            "2021-06-19 06:32:25,411 : INFO : EPOCH 5 - PROGRESS: at 20.49% examples, 489773 words/s, in_qsize 6, out_qsize 1\n",
            "2021-06-19 06:32:26,427 : INFO : EPOCH 5 - PROGRESS: at 25.89% examples, 488840 words/s, in_qsize 5, out_qsize 0\n",
            "2021-06-19 06:32:27,429 : INFO : EPOCH 5 - PROGRESS: at 31.91% examples, 487942 words/s, in_qsize 6, out_qsize 0\n",
            "2021-06-19 06:32:28,436 : INFO : EPOCH 5 - PROGRESS: at 37.41% examples, 485974 words/s, in_qsize 5, out_qsize 0\n",
            "2021-06-19 06:32:29,437 : INFO : EPOCH 5 - PROGRESS: at 42.99% examples, 484942 words/s, in_qsize 4, out_qsize 1\n",
            "2021-06-19 06:32:30,452 : INFO : EPOCH 5 - PROGRESS: at 48.73% examples, 484971 words/s, in_qsize 5, out_qsize 0\n",
            "2021-06-19 06:32:31,465 : INFO : EPOCH 5 - PROGRESS: at 54.30% examples, 482333 words/s, in_qsize 3, out_qsize 2\n",
            "2021-06-19 06:32:32,483 : INFO : EPOCH 5 - PROGRESS: at 60.30% examples, 480582 words/s, in_qsize 5, out_qsize 0\n",
            "2021-06-19 06:32:33,495 : INFO : EPOCH 5 - PROGRESS: at 66.11% examples, 479830 words/s, in_qsize 5, out_qsize 0\n",
            "2021-06-19 06:32:34,518 : INFO : EPOCH 5 - PROGRESS: at 71.79% examples, 479359 words/s, in_qsize 5, out_qsize 0\n",
            "2021-06-19 06:32:35,532 : INFO : EPOCH 5 - PROGRESS: at 77.37% examples, 479905 words/s, in_qsize 4, out_qsize 1\n",
            "2021-06-19 06:32:36,545 : INFO : EPOCH 5 - PROGRESS: at 83.15% examples, 479895 words/s, in_qsize 5, out_qsize 0\n",
            "2021-06-19 06:32:37,550 : INFO : EPOCH 5 - PROGRESS: at 88.93% examples, 479650 words/s, in_qsize 5, out_qsize 0\n",
            "2021-06-19 06:32:38,553 : INFO : EPOCH 5 - PROGRESS: at 94.66% examples, 479525 words/s, in_qsize 5, out_qsize 0\n",
            "2021-06-19 06:32:39,374 : INFO : worker thread finished; awaiting finish of 2 more threads\n",
            "2021-06-19 06:32:39,387 : INFO : worker thread finished; awaiting finish of 1 more threads\n",
            "2021-06-19 06:32:39,391 : INFO : worker thread finished; awaiting finish of 0 more threads\n",
            "2021-06-19 06:32:39,393 : INFO : EPOCH - 5 : training on 11902175 raw words (8667002 effective words) took 18.0s, 480961 effective words/s\n",
            "2021-06-19 06:32:39,394 : INFO : training on a 59510875 raw words (43337148 effective words) took 90.0s, 481690 effective words/s\n"
          ],
          "name": "stderr"
        }
      ]
    },
    {
      "cell_type": "code",
      "metadata": {
        "colab": {
          "base_uri": "https://localhost:8080/"
        },
        "id": "kNA8FoKd8t4r",
        "outputId": "0c436bef-5114-44ca-8274-c7bf7e1b976f"
      },
      "source": [
        "model.save('model.txt')"
      ],
      "execution_count": 19,
      "outputs": [
        {
          "output_type": "stream",
          "text": [
            "2021-06-19 06:34:02,290 : INFO : saving Word2Vec object under model.txt, separately None\n",
            "2021-06-19 06:34:02,292 : INFO : not storing attribute vectors_norm\n",
            "2021-06-19 06:34:02,295 : INFO : not storing attribute cum_table\n",
            "2021-06-19 06:34:02,825 : INFO : saved model.txt\n"
          ],
          "name": "stderr"
        }
      ]
    },
    {
      "cell_type": "code",
      "metadata": {
        "id": "L4wI3vC-842v"
      },
      "source": [
        "from gensim.models import KeyedVectors"
      ],
      "execution_count": 16,
      "outputs": []
    },
    {
      "cell_type": "code",
      "metadata": {
        "colab": {
          "base_uri": "https://localhost:8080/"
        },
        "id": "XdPk0ZXo9GeB",
        "outputId": "806ec189-7bdc-4a24-82fd-d57021a534a7"
      },
      "source": [
        "model.wv[\"cost\"]"
      ],
      "execution_count": 21,
      "outputs": [
        {
          "output_type": "execute_result",
          "data": {
            "text/plain": [
              "array([-2.9001412 ,  2.6681156 , -3.463054  ,  0.5138786 ,  1.8106627 ,\n",
              "        1.7354683 ,  1.8420322 ,  0.04515912, -1.8608925 , -6.084748  ,\n",
              "       -1.3104138 , -0.5888264 , -3.0308764 ,  1.7383401 ,  1.3842403 ,\n",
              "        5.164928  , -2.654964  , -3.2534084 , -3.0768392 ,  4.552812  ,\n",
              "        0.19554397,  3.875995  , -3.555494  , -0.05257041,  0.4123296 ,\n",
              "        1.6234837 , -0.50265527,  0.8667276 , -1.1700412 ,  1.7062216 ,\n",
              "       -3.3556182 , -2.3263917 ,  3.548898  ,  1.2444705 ,  2.0585334 ,\n",
              "       -4.4061527 ,  2.0838199 ,  3.9884174 , -3.8284097 , -0.4769064 ,\n",
              "        4.7884164 ,  1.1357145 , -1.4107982 , -3.2187872 ,  0.2295422 ,\n",
              "        4.722709  , -1.2470998 , -2.632282  ,  0.22980052,  6.1402516 ],\n",
              "      dtype=float32)"
            ]
          },
          "metadata": {
            "tags": []
          },
          "execution_count": 21
        }
      ]
    },
    {
      "cell_type": "code",
      "metadata": {
        "colab": {
          "base_uri": "https://localhost:8080/"
        },
        "id": "1SfGJzHl_DSR",
        "outputId": "7bb9b943-abc3-40e3-8b86-b7f1530063b5"
      },
      "source": [
        "model.wv.most_similar(\"under\")"
      ],
      "execution_count": 22,
      "outputs": [
        {
          "output_type": "stream",
          "text": [
            "2021-06-19 06:36:43,669 : INFO : precomputing L2-norms of word weight vectors\n"
          ],
          "name": "stderr"
        },
        {
          "output_type": "execute_result",
          "data": {
            "text/plain": [
              "[('granted', 0.5250562429428101),\n",
              " (\"Andorra's\", 0.5173701643943787),\n",
              " ('Ustasha', 0.509483277797699),\n",
              " ('Under', 0.5036454796791077),\n",
              " ('assembly', 0.49709975719451904),\n",
              " ('dissolved', 0.49206405878067017),\n",
              " ('relinquished', 0.48577404022216797),\n",
              " ('decree', 0.4840596616268158),\n",
              " ('Commune', 0.4824349582195282),\n",
              " ('revoked', 0.4771723449230194)]"
            ]
          },
          "metadata": {
            "tags": []
          },
          "execution_count": 22
        }
      ]
    },
    {
      "cell_type": "code",
      "metadata": {
        "colab": {
          "base_uri": "https://localhost:8080/"
        },
        "id": "wokdT6IA_HGy",
        "outputId": "c79f8fdd-18b5-494b-baeb-c29d529c99d6"
      },
      "source": [
        "from gensim.test.utils import datapath"
      ],
      "execution_count": 23,
      "outputs": [
        {
          "output_type": "stream",
          "text": [
            "2021-06-19 06:36:58,617 : INFO : adding document #0 to Dictionary(0 unique tokens: [])\n",
            "2021-06-19 06:36:58,621 : INFO : built Dictionary(12 unique tokens: ['computer', 'human', 'interface', 'response', 'survey']...) from 9 documents (total 29 corpus positions)\n"
          ],
          "name": "stderr"
        }
      ]
    },
    {
      "cell_type": "code",
      "metadata": {
        "colab": {
          "base_uri": "https://localhost:8080/"
        },
        "id": "S7odmgUl_Knv",
        "outputId": "5046a18f-62d3-456c-c8b4-dea2ec9df4e3"
      },
      "source": [
        "analogy_scores = model.wv.evaluate_word_analogies(datapath('questions-words.txt'))"
      ],
      "execution_count": 24,
      "outputs": [
        {
          "output_type": "stream",
          "text": [
            "2021-06-19 06:37:19,251 : INFO : Evaluating word analogies for top 300000 words in the model on /usr/local/lib/python3.7/dist-packages/gensim/test/test_data/questions-words.txt\n",
            "2021-06-19 06:37:20,958 : INFO : capital-common-countries: 7.3% (37/506)\n",
            "2021-06-19 06:37:28,457 : INFO : capital-world: 3.1% (67/2195)\n",
            "2021-06-19 06:37:28,716 : INFO : currency: 0.0% (0/70)\n",
            "2021-06-19 06:37:36,595 : INFO : city-in-state: 2.8% (61/2202)\n",
            "2021-06-19 06:37:37,918 : INFO : family: 36.8% (140/380)\n",
            "2021-06-19 06:37:41,038 : INFO : gram1-adjective-to-adverb: 4.4% (41/930)\n",
            "2021-06-19 06:37:42,470 : INFO : gram2-opposite: 0.5% (2/420)\n",
            "2021-06-19 06:37:46,859 : INFO : gram3-comparative: 19.7% (263/1332)\n",
            "2021-06-19 06:37:49,226 : INFO : gram4-superlative: 12.4% (87/702)\n",
            "2021-06-19 06:37:52,712 : INFO : gram5-present-participle: 16.3% (172/1056)\n",
            "2021-06-19 06:37:57,460 : INFO : gram6-nationality-adjective: 22.8% (329/1445)\n",
            "2021-06-19 06:38:02,909 : INFO : gram7-past-tense: 25.9% (404/1560)\n",
            "2021-06-19 06:38:06,776 : INFO : gram8-plural: 11.6% (130/1122)\n",
            "2021-06-19 06:38:09,611 : INFO : gram9-plural-verbs: 11.6% (94/812)\n",
            "2021-06-19 06:38:09,614 : INFO : Quadruplets with out-of-vocabulary words: 24.6%\n",
            "2021-06-19 06:38:09,618 : INFO : NB: analogies containing OOV words were skipped from evaluation! To change this behavior, use \"dummy4unknown=True\"\n",
            "2021-06-19 06:38:09,620 : INFO : Total accuracy: 12.4% (1827/14732)\n"
          ],
          "name": "stderr"
        }
      ]
    },
    {
      "cell_type": "code",
      "metadata": {
        "colab": {
          "base_uri": "https://localhost:8080/"
        },
        "id": "8Sg2RsyE_jlA",
        "outputId": "5d502ce7-0883-4cde-c4f1-7576a4019e88"
      },
      "source": [
        "analogy_scores[0]"
      ],
      "execution_count": 25,
      "outputs": [
        {
          "output_type": "execute_result",
          "data": {
            "text/plain": [
              "0.12401574803149606"
            ]
          },
          "metadata": {
            "tags": []
          },
          "execution_count": 25
        }
      ]
    },
    {
      "cell_type": "code",
      "metadata": {
        "colab": {
          "base_uri": "https://localhost:8080/"
        },
        "id": "bTk5Ttm0A9N4",
        "outputId": "8cfd78d5-419f-4145-e81e-79410851b5a0"
      },
      "source": [
        "similarities = model.evaluate_word_pairs(datapath('wordsim353.tsv'))"
      ],
      "execution_count": 26,
      "outputs": [
        {
          "output_type": "stream",
          "text": [
            "/usr/local/lib/python3.7/dist-packages/ipykernel_launcher.py:1: DeprecationWarning: Call to deprecated `evaluate_word_pairs` (Method will be removed in 4.0.0, use self.wv.evaluate_word_pairs() instead).\n",
            "  \"\"\"Entry point for launching an IPython kernel.\n",
            "2021-06-19 06:45:10,500 : INFO : Pearson correlation coefficient against /usr/local/lib/python3.7/dist-packages/gensim/test/test_data/wordsim353.tsv: 0.4578\n",
            "2021-06-19 06:45:10,502 : INFO : Spearman rank-order correlation coefficient against /usr/local/lib/python3.7/dist-packages/gensim/test/test_data/wordsim353.tsv: 0.4738\n",
            "2021-06-19 06:45:10,504 : INFO : Pairs with unknown words ratio: 1.7%\n"
          ],
          "name": "stderr"
        }
      ]
    },
    {
      "cell_type": "code",
      "metadata": {
        "colab": {
          "base_uri": "https://localhost:8080/"
        },
        "id": "Et3u7BXYBCKd",
        "outputId": "8fdf2ee8-d6f4-4f75-c18a-bb54f412cad7"
      },
      "source": [
        "similarities[0]"
      ],
      "execution_count": 27,
      "outputs": [
        {
          "output_type": "execute_result",
          "data": {
            "text/plain": [
              "(0.4577866618373788, 2.2336874590127113e-19)"
            ]
          },
          "metadata": {
            "tags": []
          },
          "execution_count": 27
        }
      ]
    }
  ]
}