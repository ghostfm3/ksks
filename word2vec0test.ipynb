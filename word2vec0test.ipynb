{
  "nbformat": 4,
  "nbformat_minor": 0,
  "metadata": {
    "colab": {
      "name": "word2vec.ipynb",
      "provenance": [],
      "authorship_tag": "ABX9TyN9CdiBVu+zxF9LKo83eOfE",
      "include_colab_link": true
    },
    "kernelspec": {
      "name": "python3",
      "display_name": "Python 3"
    }
  },
  "cells": [
    {
      "cell_type": "markdown",
      "metadata": {
        "id": "view-in-github",
        "colab_type": "text"
      },
      "source": [
        "<a href=\"https://colab.research.google.com/github/ghostfm3/ksks/blob/master/word2vec0test.ipynb\" target=\"_parent\"><img src=\"https://colab.research.google.com/assets/colab-badge.svg\" alt=\"Open In Colab\"/></a>"
      ]
    },
    {
      "cell_type": "code",
      "metadata": {
        "colab": {
          "resources": {
            "http://localhost:8080/nbextensions/google.colab/files.js": {
              "data": "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",
              "ok": true,
              "headers": [
                [
                  "content-type",
                  "application/javascript"
                ]
              ],
              "status": 200,
              "status_text": ""
            }
          },
          "base_uri": "https://localhost:8080/",
          "height": 78
        },
        "id": "kknok66Nnsmd",
        "outputId": "4d0e9be0-6ed5-4b8a-a3cb-81bb492f0fc5"
      },
      "source": [
        "from google.colab import files\n",
        "uploaded = files.upload()"
      ],
      "execution_count": 1,
      "outputs": [
        {
          "output_type": "display_data",
          "data": {
            "text/html": [
              "\n",
              "     <input type=\"file\" id=\"files-25d0622c-2f1d-46f0-b380-a850e01f5a03\" name=\"files[]\" multiple disabled\n",
              "        style=\"border:none\" />\n",
              "     <output id=\"result-25d0622c-2f1d-46f0-b380-a850e01f5a03\">\n",
              "      Upload widget is only available when the cell has been executed in the\n",
              "      current browser session. Please rerun this cell to enable.\n",
              "      </output>\n",
              "      <script src=\"/nbextensions/google.colab/files.js\"></script> "
            ],
            "text/plain": [
              "<IPython.core.display.HTML object>"
            ]
          },
          "metadata": {
            "tags": []
          }
        },
        {
          "output_type": "stream",
          "text": [
            "Saving 789_ruby_5639.zip to 789_ruby_5639.zip\n"
          ],
          "name": "stdout"
        }
      ]
    },
    {
      "cell_type": "code",
      "metadata": {
        "colab": {
          "resources": {
            "http://localhost:8080/nbextensions/google.colab/files.js": {
              "data": "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",
              "ok": true,
              "headers": [
                [
                  "content-type",
                  "application/javascript"
                ]
              ],
              "status": 200,
              "status_text": ""
            }
          },
          "base_uri": "https://localhost:8080/",
          "height": 78
        },
        "id": "k_pyDskloa9o",
        "outputId": "364bb78b-0189-4e34-a7f9-679dae401936"
      },
      "source": [
        "from google.colab import files\n",
        "uploaded = files.upload()"
      ],
      "execution_count": 3,
      "outputs": [
        {
          "output_type": "display_data",
          "data": {
            "text/html": [
              "\n",
              "     <input type=\"file\" id=\"files-8d83104f-219d-42d9-b908-90ccdc5d84a2\" name=\"files[]\" multiple disabled\n",
              "        style=\"border:none\" />\n",
              "     <output id=\"result-8d83104f-219d-42d9-b908-90ccdc5d84a2\">\n",
              "      Upload widget is only available when the cell has been executed in the\n",
              "      current browser session. Please rerun this cell to enable.\n",
              "      </output>\n",
              "      <script src=\"/nbextensions/google.colab/files.js\"></script> "
            ],
            "text/plain": [
              "<IPython.core.display.HTML object>"
            ]
          },
          "metadata": {
            "tags": []
          }
        },
        {
          "output_type": "stream",
          "text": [
            "Saving wagahaiwa_nekodearu.txt to wagahaiwa_nekodearu.txt\n"
          ],
          "name": "stdout"
        }
      ]
    },
    {
      "cell_type": "code",
      "metadata": {
        "colab": {
          "base_uri": "https://localhost:8080/"
        },
        "id": "_fqvyQrloOHg",
        "outputId": "7c57320d-4639-4af7-cbcf-3255d8dfd664"
      },
      "source": [
        "with open('wagahaiwa_nekodearu.txt', mode='rt', encoding='cp932') as rf:\n",
        "    for i, line in enumerate(rf):\n",
        "        if i < 5: # この数字を変えることで表示する行数が変化\n",
        "            print(line.strip())"
      ],
      "execution_count": 4,
      "outputs": [
        {
          "output_type": "stream",
          "text": [
            "吾輩は猫である\n",
            "夏目漱石\n",
            "\n",
            "-------------------------------------------------------\n",
            "【テキスト中に現れる記号について】\n"
          ],
          "name": "stdout"
        }
      ]
    },
    {
      "cell_type": "code",
      "metadata": {
        "id": "wJ2Bms_koTwe"
      },
      "source": [
        "with open('wagahaiwa_nekodearu.txt', mode='rt', encoding='cp932') as rf:\n",
        "    with open('吾輩は猫である.txt', mode='wt', encoding='cp932') as wf:\n",
        "        for i, line in enumerate(rf):\n",
        "            if i > 23 and 2358 >= i:\n",
        "                wf.write(line)"
      ],
      "execution_count": 5,
      "outputs": []
    },
    {
      "cell_type": "code",
      "metadata": {
        "id": "j1wbGxQKopb3"
      },
      "source": [
        "import re\n",
        "pattern1 = re.compile(r'《.*?》', re.MULTILINE)\n",
        "pattern2 = re.compile(r'｜', re.MULTILINE)\n",
        "pattern3 = re.compile(r'［＃.*?］', re.MULTILINE)\n",
        "with open('吾輩は猫である.txt', mode='rt', encoding='cp932') as rf:\n",
        "    with open('吾輩は猫である_ルビなし.txt', mode='wt', encoding='cp932') as wf:\n",
        "        for i, line in enumerate(rf):\n",
        "            line = pattern1.sub('',line)\n",
        "            line = pattern2.sub('',line)\n",
        "            line = pattern3.sub('',line)\n",
        "            wf.write(line)"
      ],
      "execution_count": 6,
      "outputs": []
    },
    {
      "cell_type": "code",
      "metadata": {
        "colab": {
          "base_uri": "https://localhost:8080/",
          "height": 17
        },
        "id": "hEOumDaZoxg3",
        "outputId": "a65b5add-6222-46b2-9ac6-93539c294168"
      },
      "source": [
        "files.download('吾輩は猫である_ルビなし.txt')"
      ],
      "execution_count": 7,
      "outputs": [
        {
          "output_type": "display_data",
          "data": {
            "application/javascript": [
              "\n",
              "    async function download(id, filename, size) {\n",
              "      if (!google.colab.kernel.accessAllowed) {\n",
              "        return;\n",
              "      }\n",
              "      const div = document.createElement('div');\n",
              "      const label = document.createElement('label');\n",
              "      label.textContent = `Downloading \"${filename}\": `;\n",
              "      div.appendChild(label);\n",
              "      const progress = document.createElement('progress');\n",
              "      progress.max = size;\n",
              "      div.appendChild(progress);\n",
              "      document.body.appendChild(div);\n",
              "\n",
              "      const buffers = [];\n",
              "      let downloaded = 0;\n",
              "\n",
              "      const channel = await google.colab.kernel.comms.open(id);\n",
              "      // Send a message to notify the kernel that we're ready.\n",
              "      channel.send({})\n",
              "\n",
              "      for await (const message of channel.messages) {\n",
              "        // Send a message to notify the kernel that we're ready.\n",
              "        channel.send({})\n",
              "        if (message.buffers) {\n",
              "          for (const buffer of message.buffers) {\n",
              "            buffers.push(buffer);\n",
              "            downloaded += buffer.byteLength;\n",
              "            progress.value = downloaded;\n",
              "          }\n",
              "        }\n",
              "      }\n",
              "      const blob = new Blob(buffers, {type: 'application/binary'});\n",
              "      const a = document.createElement('a');\n",
              "      a.href = window.URL.createObjectURL(blob);\n",
              "      a.download = filename;\n",
              "      div.appendChild(a);\n",
              "      a.click();\n",
              "      div.remove();\n",
              "    }\n",
              "  "
            ],
            "text/plain": [
              "<IPython.core.display.Javascript object>"
            ]
          },
          "metadata": {
            "tags": []
          }
        },
        {
          "output_type": "display_data",
          "data": {
            "application/javascript": [
              "download(\"download_884a5c04-702a-4400-832e-cdaf487316d4\", \"\\u543e\\u8f29\\u306f\\u732b\\u3067\\u3042\\u308b_\\u30eb\\u30d3\\u306a\\u3057.txt\", 639692)"
            ],
            "text/plain": [
              "<IPython.core.display.Javascript object>"
            ]
          },
          "metadata": {
            "tags": []
          }
        }
      ]
    },
    {
      "cell_type": "code",
      "metadata": {
        "colab": {
          "base_uri": "https://localhost:8080/"
        },
        "id": "vlosVNySpAut",
        "outputId": "7e6df50d-52d8-49cc-c240-a1142de05099"
      },
      "source": [
        "!apt-get -q -y install sudo file mecab libmecab-dev mecab-ipadic-utf8 git curl python-mecab > /dev/null\n",
        "!git clone --depth 1 https://github.com/neologd/mecab-ipadic-neologd.git > /dev/null \n",
        "!echo yes | mecab-ipadic-neologd/bin/install-mecab-ipadic-neologd -n > /dev/null 2>&1\n",
        "!pip install mecab-python3 > /dev/null\n",
        "!echo mecab-config --dicdir\"/mecab-ipadic-neologd\""
      ],
      "execution_count": 8,
      "outputs": [
        {
          "output_type": "stream",
          "text": [
            "Cloning into 'mecab-ipadic-neologd'...\n",
            "remote: Enumerating objects: 75, done.\u001b[K\n",
            "remote: Counting objects: 100% (75/75), done.\u001b[K\n",
            "remote: Compressing objects: 100% (74/74), done.\u001b[K\n",
            "remote: Total 75 (delta 5), reused 54 (delta 0), pack-reused 0\u001b[K\n",
            "Unpacking objects: 100% (75/75), done.\n",
            "mecab-config --dicdir/mecab-ipadic-neologd\n"
          ],
          "name": "stdout"
        }
      ]
    },
    {
      "cell_type": "code",
      "metadata": {
        "colab": {
          "base_uri": "https://localhost:8080/"
        },
        "id": "b_l2jvOnqNnm",
        "outputId": "8f636655-fa2e-41fa-83a8-80a96277948a"
      },
      "source": [
        "pip install unidic-lite"
      ],
      "execution_count": 15,
      "outputs": [
        {
          "output_type": "stream",
          "text": [
            "Collecting unidic-lite\n",
            "\u001b[?25l  Downloading https://files.pythonhosted.org/packages/74/d2/a4233f65f718f27065a4cf23a2c4f05d8bd4c75821e092060c4efaf28e66/unidic-lite-1.0.7.tar.gz (47.3MB)\n",
            "\u001b[K     |████████████████████████████████| 47.3MB 97kB/s \n",
            "\u001b[?25hBuilding wheels for collected packages: unidic-lite\n",
            "  Building wheel for unidic-lite (setup.py) ... \u001b[?25l\u001b[?25hdone\n",
            "  Created wheel for unidic-lite: filename=unidic_lite-1.0.7-cp36-none-any.whl size=47556594 sha256=5c9ef9fdcd17624b264e53d3f9f5fe6c5834d0aafbb24885fd23e3bad9fe90c2\n",
            "  Stored in directory: /root/.cache/pip/wheels/a8/82/7d/086724645e33a575aafd0b1dae2835c37d2c00c6a0a96ee3a0\n",
            "Successfully built unidic-lite\n",
            "Installing collected packages: unidic-lite\n",
            "Successfully installed unidic-lite-1.0.7\n"
          ],
          "name": "stdout"
        }
      ]
    },
    {
      "cell_type": "code",
      "metadata": {
        "colab": {
          "base_uri": "https://localhost:8080/"
        },
        "id": "-VZkVZCcqWCf",
        "outputId": "26fcce2e-b58b-4cb1-f7af-5167779c4366"
      },
      "source": [
        "import MeCab\n",
        "m = MeCab.Tagger('-Owakati')\n",
        "result = m.parse('形態素解析を練習で実行してみる')\n",
        "print(result)"
      ],
      "execution_count": 16,
      "outputs": [
        {
          "output_type": "stream",
          "text": [
            "形態 素 解析 を 練習 で 実行 し て みる \n",
            "\n"
          ],
          "name": "stdout"
        }
      ]
    },
    {
      "cell_type": "code",
      "metadata": {
        "colab": {
          "base_uri": "https://localhost:8080/"
        },
        "id": "BKzM8VfHqbGk",
        "outputId": "fbd2da1b-a212-43eb-a92a-989a335ed7f2"
      },
      "source": [
        "import MeCab\n",
        "path = '-d /usr/lib/x86_64-linux-gnu/mecab/dic/mecab-ipadic-neologd'\n",
        "m = MeCab.Tagger(path)\n",
        "result = m.parse('形態素解析を実行してみる')\n",
        "print(result)"
      ],
      "execution_count": 17,
      "outputs": [
        {
          "output_type": "stream",
          "text": [
            "形態素解析\t名詞,固有名詞,一般,*,*,*,形態素解析,ケイタイソカイセキ,ケイタイソカイセキ\n",
            "を\t助詞,格助詞,一般,*,*,*,を,ヲ,ヲ\n",
            "実行\t名詞,サ変接続,*,*,*,*,実行,ジッコウ,ジッコー\n",
            "し\t動詞,自立,*,*,サ変・スル,連用形,する,シ,シ\n",
            "て\t助詞,接続助詞,*,*,*,*,て,テ,テ\n",
            "みる\t動詞,非自立,*,*,一段,基本形,みる,ミル,ミル\n",
            "EOS\n",
            "\n"
          ],
          "name": "stdout"
        }
      ]
    },
    {
      "cell_type": "code",
      "metadata": {
        "id": "H6Yf8YErqji1"
      },
      "source": [
        "import MeCab\n",
        "def mecab_tokenizer(text):\n",
        "    m = MeCab.Tagger(\"-d /usr/lib/x86_64-linux-gnu/mecab/dic/mecab-ipadic-neologd\")\n",
        "    node = m.parseToNode(text)\n",
        "    wordtype_list = ['名詞','動詞','形容詞']\n",
        "    subtype_list = [\"数\", \"非自立\", \"代名詞\",\"接尾\"]\n",
        "    output = []\n",
        "    while node:\n",
        "        if node.surface != \"\":\n",
        "            wordtype = node.feature.split(\",\")[0]\n",
        "            subtype = node.feature.split(\",\")[1]\n",
        "            original = node.feature.split(\",\")[6]\n",
        "            if wordtype in wordtype_list and subtype not in subtype_list and original != '*':\n",
        "                output.append(original)\n",
        "        node = node.next\n",
        "        if node is None:\n",
        "            break\n",
        "    return output"
      ],
      "execution_count": 18,
      "outputs": []
    },
    {
      "cell_type": "code",
      "metadata": {
        "colab": {
          "base_uri": "https://localhost:8080/"
        },
        "id": "fn7vxaVSqvxV",
        "outputId": "eebacd66-f207-46be-cde2-cecb55567190"
      },
      "source": [
        "text = 'これで望み通りの形態素解析を行う関数定義ができます．'\n",
        "mecab_tokenizer(text)"
      ],
      "execution_count": 19,
      "outputs": [
        {
          "output_type": "execute_result",
          "data": {
            "text/plain": [
              "['望み', '形態素解析', '行う', '関数', '定義', 'できる']"
            ]
          },
          "metadata": {
            "tags": []
          },
          "execution_count": 19
        }
      ]
    },
    {
      "cell_type": "code",
      "metadata": {
        "id": "VOkN9s3EqzwW"
      },
      "source": [
        "import pandas as pd\n",
        "text_data = pd.read_table('吾輩は猫である_ルビなし.txt', encoding='cp932', header = None)\n",
        "text_data.columns = ['text']\n",
        "text_data['wakati'] = text_data['text'].apply(lambda x: ' '.join(mecab_tokenizer(x)))"
      ],
      "execution_count": 20,
      "outputs": []
    },
    {
      "cell_type": "code",
      "metadata": {
        "id": "UVL4-V25q7aJ"
      },
      "source": [
        "text_data.wakati.to_csv('wakati.csv', sep='\\n', header=True, index=False)"
      ],
      "execution_count": 21,
      "outputs": []
    },
    {
      "cell_type": "code",
      "metadata": {
        "colab": {
          "base_uri": "https://localhost:8080/"
        },
        "id": "Up20MvxPrBu1",
        "outputId": "5cd83a50-c270-40f3-ad7c-0962672d109f"
      },
      "source": [
        "from gensim.models import word2vec\n",
        "import logging\n",
        "logging.basicConfig(format='%(asctime)s : %(levelname)s : %(message)s', level=logging.INFO)\n",
        "sentence_data = word2vec.LineSentence('wakati.csv')\n",
        "model_w2v = word2vec.Word2Vec(sentence_data,\n",
        "                         sg=1,        # Skip-gram\n",
        "                         size=200,    # 次元数\n",
        "                         min_count=5, # min_count回未満の単語を破棄\n",
        "                         window=5,    # 文脈の最大単語数\n",
        "                         hs=1,        # 階層ソフトマックス(ネガティブサンプリングするなら0)\n",
        "                         negative=5,  # ネガティブサンプリング\n",
        "                         iter=50      # Epoch数\n",
        "                         )"
      ],
      "execution_count": 22,
      "outputs": [
        {
          "output_type": "stream",
          "text": [
            "2020-12-05 06:52:25,184 : INFO : collecting all words and their counts\n",
            "2020-12-05 06:52:25,185 : INFO : PROGRESS: at sentence #0, processed 0 words, keeping 0 word types\n",
            "2020-12-05 06:52:25,216 : INFO : collected 11128 word types from a corpus of 67030 raw words and 2256 sentences\n",
            "2020-12-05 06:52:25,222 : INFO : Loading a fresh vocabulary\n",
            "2020-12-05 06:52:25,231 : INFO : effective_min_count=5 retains 2476 unique words (22% of original 11128, drops 8652)\n",
            "2020-12-05 06:52:25,234 : INFO : effective_min_count=5 leaves 52863 word corpus (78% of original 67030, drops 14167)\n",
            "2020-12-05 06:52:25,247 : INFO : deleting the raw counts dictionary of 11128 items\n",
            "2020-12-05 06:52:25,250 : INFO : sample=0.001 downsamples 36 most-common words\n",
            "2020-12-05 06:52:25,251 : INFO : downsampling leaves estimated 43537 word corpus (82.4% of prior 52863)\n",
            "2020-12-05 06:52:25,256 : INFO : constructing a huffman tree from 2476 words\n",
            "2020-12-05 06:52:25,309 : INFO : built huffman tree with maximum node depth 13\n",
            "2020-12-05 06:52:25,316 : INFO : estimated required memory for 2476 words and 200 dimensions: 7675600 bytes\n",
            "2020-12-05 06:52:25,317 : INFO : resetting layer weights\n",
            "2020-12-05 06:52:25,819 : INFO : training model with 3 workers on 2476 vocabulary and 200 features, using sg=1 hs=1 sample=0.001 negative=5 window=5\n",
            "2020-12-05 06:52:26,331 : INFO : worker thread finished; awaiting finish of 2 more threads\n",
            "2020-12-05 06:52:26,365 : INFO : worker thread finished; awaiting finish of 1 more threads\n",
            "2020-12-05 06:52:26,412 : INFO : worker thread finished; awaiting finish of 0 more threads\n",
            "2020-12-05 06:52:26,413 : INFO : EPOCH - 1 : training on 67030 raw words (43481 effective words) took 0.6s, 73981 effective words/s\n",
            "2020-12-05 06:52:26,914 : INFO : worker thread finished; awaiting finish of 2 more threads\n",
            "2020-12-05 06:52:26,955 : INFO : worker thread finished; awaiting finish of 1 more threads\n",
            "2020-12-05 06:52:26,994 : INFO : worker thread finished; awaiting finish of 0 more threads\n",
            "2020-12-05 06:52:26,995 : INFO : EPOCH - 2 : training on 67030 raw words (43506 effective words) took 0.6s, 75560 effective words/s\n",
            "2020-12-05 06:52:27,506 : INFO : worker thread finished; awaiting finish of 2 more threads\n",
            "2020-12-05 06:52:27,524 : INFO : worker thread finished; awaiting finish of 1 more threads\n",
            "2020-12-05 06:52:27,574 : INFO : worker thread finished; awaiting finish of 0 more threads\n",
            "2020-12-05 06:52:27,575 : INFO : EPOCH - 3 : training on 67030 raw words (43583 effective words) took 0.6s, 75583 effective words/s\n",
            "2020-12-05 06:52:28,091 : INFO : worker thread finished; awaiting finish of 2 more threads\n",
            "2020-12-05 06:52:28,102 : INFO : worker thread finished; awaiting finish of 1 more threads\n",
            "2020-12-05 06:52:28,162 : INFO : worker thread finished; awaiting finish of 0 more threads\n",
            "2020-12-05 06:52:28,164 : INFO : EPOCH - 4 : training on 67030 raw words (43524 effective words) took 0.6s, 74365 effective words/s\n",
            "2020-12-05 06:52:28,677 : INFO : worker thread finished; awaiting finish of 2 more threads\n",
            "2020-12-05 06:52:28,718 : INFO : worker thread finished; awaiting finish of 1 more threads\n",
            "2020-12-05 06:52:28,735 : INFO : worker thread finished; awaiting finish of 0 more threads\n",
            "2020-12-05 06:52:28,737 : INFO : EPOCH - 5 : training on 67030 raw words (43473 effective words) took 0.6s, 76772 effective words/s\n",
            "2020-12-05 06:52:29,289 : INFO : worker thread finished; awaiting finish of 2 more threads\n",
            "2020-12-05 06:52:29,301 : INFO : worker thread finished; awaiting finish of 1 more threads\n",
            "2020-12-05 06:52:29,304 : INFO : worker thread finished; awaiting finish of 0 more threads\n",
            "2020-12-05 06:52:29,305 : INFO : EPOCH - 6 : training on 67030 raw words (43506 effective words) took 0.6s, 77168 effective words/s\n",
            "2020-12-05 06:52:29,822 : INFO : worker thread finished; awaiting finish of 2 more threads\n",
            "2020-12-05 06:52:29,837 : INFO : worker thread finished; awaiting finish of 1 more threads\n",
            "2020-12-05 06:52:29,893 : INFO : worker thread finished; awaiting finish of 0 more threads\n",
            "2020-12-05 06:52:29,895 : INFO : EPOCH - 7 : training on 67030 raw words (43649 effective words) took 0.6s, 74761 effective words/s\n",
            "2020-12-05 06:52:30,428 : INFO : worker thread finished; awaiting finish of 2 more threads\n",
            "2020-12-05 06:52:30,460 : INFO : worker thread finished; awaiting finish of 1 more threads\n",
            "2020-12-05 06:52:30,488 : INFO : worker thread finished; awaiting finish of 0 more threads\n",
            "2020-12-05 06:52:30,490 : INFO : EPOCH - 8 : training on 67030 raw words (43527 effective words) took 0.6s, 74032 effective words/s\n",
            "2020-12-05 06:52:30,965 : INFO : worker thread finished; awaiting finish of 2 more threads\n",
            "2020-12-05 06:52:31,031 : INFO : worker thread finished; awaiting finish of 1 more threads\n",
            "2020-12-05 06:52:31,066 : INFO : worker thread finished; awaiting finish of 0 more threads\n",
            "2020-12-05 06:52:31,067 : INFO : EPOCH - 9 : training on 67030 raw words (43497 effective words) took 0.6s, 75610 effective words/s\n",
            "2020-12-05 06:52:31,590 : INFO : worker thread finished; awaiting finish of 2 more threads\n",
            "2020-12-05 06:52:31,593 : INFO : worker thread finished; awaiting finish of 1 more threads\n",
            "2020-12-05 06:52:31,647 : INFO : worker thread finished; awaiting finish of 0 more threads\n",
            "2020-12-05 06:52:31,648 : INFO : EPOCH - 10 : training on 67030 raw words (43519 effective words) took 0.6s, 75302 effective words/s\n",
            "2020-12-05 06:52:32,136 : INFO : worker thread finished; awaiting finish of 2 more threads\n",
            "2020-12-05 06:52:32,210 : INFO : worker thread finished; awaiting finish of 1 more threads\n",
            "2020-12-05 06:52:32,221 : INFO : worker thread finished; awaiting finish of 0 more threads\n",
            "2020-12-05 06:52:32,223 : INFO : EPOCH - 11 : training on 67030 raw words (43593 effective words) took 0.6s, 76299 effective words/s\n",
            "2020-12-05 06:52:32,707 : INFO : worker thread finished; awaiting finish of 2 more threads\n",
            "2020-12-05 06:52:32,743 : INFO : worker thread finished; awaiting finish of 1 more threads\n",
            "2020-12-05 06:52:32,794 : INFO : worker thread finished; awaiting finish of 0 more threads\n",
            "2020-12-05 06:52:32,796 : INFO : EPOCH - 12 : training on 67030 raw words (43559 effective words) took 0.6s, 76613 effective words/s\n",
            "2020-12-05 06:52:33,270 : INFO : worker thread finished; awaiting finish of 2 more threads\n",
            "2020-12-05 06:52:33,366 : INFO : worker thread finished; awaiting finish of 1 more threads\n",
            "2020-12-05 06:52:33,383 : INFO : worker thread finished; awaiting finish of 0 more threads\n",
            "2020-12-05 06:52:33,384 : INFO : EPOCH - 13 : training on 67030 raw words (43609 effective words) took 0.6s, 74802 effective words/s\n",
            "2020-12-05 06:52:33,927 : INFO : worker thread finished; awaiting finish of 2 more threads\n",
            "2020-12-05 06:52:33,948 : INFO : worker thread finished; awaiting finish of 1 more threads\n",
            "2020-12-05 06:52:33,957 : INFO : worker thread finished; awaiting finish of 0 more threads\n",
            "2020-12-05 06:52:33,959 : INFO : EPOCH - 14 : training on 67030 raw words (43491 effective words) took 0.6s, 76313 effective words/s\n",
            "2020-12-05 06:52:34,457 : INFO : worker thread finished; awaiting finish of 2 more threads\n",
            "2020-12-05 06:52:34,502 : INFO : worker thread finished; awaiting finish of 1 more threads\n",
            "2020-12-05 06:52:34,556 : INFO : worker thread finished; awaiting finish of 0 more threads\n",
            "2020-12-05 06:52:34,557 : INFO : EPOCH - 15 : training on 67030 raw words (43576 effective words) took 0.6s, 73498 effective words/s\n",
            "2020-12-05 06:52:35,092 : INFO : worker thread finished; awaiting finish of 2 more threads\n",
            "2020-12-05 06:52:35,120 : INFO : worker thread finished; awaiting finish of 1 more threads\n",
            "2020-12-05 06:52:35,146 : INFO : worker thread finished; awaiting finish of 0 more threads\n",
            "2020-12-05 06:52:35,147 : INFO : EPOCH - 16 : training on 67030 raw words (43549 effective words) took 0.6s, 74721 effective words/s\n",
            "2020-12-05 06:52:35,673 : INFO : worker thread finished; awaiting finish of 2 more threads\n",
            "2020-12-05 06:52:35,687 : INFO : worker thread finished; awaiting finish of 1 more threads\n",
            "2020-12-05 06:52:35,720 : INFO : worker thread finished; awaiting finish of 0 more threads\n",
            "2020-12-05 06:52:35,723 : INFO : EPOCH - 17 : training on 67030 raw words (43408 effective words) took 0.6s, 75809 effective words/s\n",
            "2020-12-05 06:52:36,249 : INFO : worker thread finished; awaiting finish of 2 more threads\n",
            "2020-12-05 06:52:36,278 : INFO : worker thread finished; awaiting finish of 1 more threads\n",
            "2020-12-05 06:52:36,302 : INFO : worker thread finished; awaiting finish of 0 more threads\n",
            "2020-12-05 06:52:36,304 : INFO : EPOCH - 18 : training on 67030 raw words (43600 effective words) took 0.6s, 75993 effective words/s\n",
            "2020-12-05 06:52:36,814 : INFO : worker thread finished; awaiting finish of 2 more threads\n",
            "2020-12-05 06:52:36,862 : INFO : worker thread finished; awaiting finish of 1 more threads\n",
            "2020-12-05 06:52:36,880 : INFO : worker thread finished; awaiting finish of 0 more threads\n",
            "2020-12-05 06:52:36,881 : INFO : EPOCH - 19 : training on 67030 raw words (43527 effective words) took 0.6s, 76206 effective words/s\n",
            "2020-12-05 06:52:37,385 : INFO : worker thread finished; awaiting finish of 2 more threads\n",
            "2020-12-05 06:52:37,411 : INFO : worker thread finished; awaiting finish of 1 more threads\n",
            "2020-12-05 06:52:37,466 : INFO : worker thread finished; awaiting finish of 0 more threads\n",
            "2020-12-05 06:52:37,468 : INFO : EPOCH - 20 : training on 67030 raw words (43647 effective words) took 0.6s, 75082 effective words/s\n",
            "2020-12-05 06:52:38,003 : INFO : worker thread finished; awaiting finish of 2 more threads\n",
            "2020-12-05 06:52:38,041 : INFO : worker thread finished; awaiting finish of 1 more threads\n",
            "2020-12-05 06:52:38,048 : INFO : worker thread finished; awaiting finish of 0 more threads\n",
            "2020-12-05 06:52:38,050 : INFO : EPOCH - 21 : training on 67030 raw words (43534 effective words) took 0.6s, 75723 effective words/s\n",
            "2020-12-05 06:52:38,565 : INFO : worker thread finished; awaiting finish of 2 more threads\n",
            "2020-12-05 06:52:38,622 : INFO : worker thread finished; awaiting finish of 1 more threads\n",
            "2020-12-05 06:52:38,657 : INFO : worker thread finished; awaiting finish of 0 more threads\n",
            "2020-12-05 06:52:38,659 : INFO : EPOCH - 22 : training on 67030 raw words (43501 effective words) took 0.6s, 72541 effective words/s\n",
            "2020-12-05 06:52:39,215 : INFO : worker thread finished; awaiting finish of 2 more threads\n",
            "2020-12-05 06:52:39,228 : INFO : worker thread finished; awaiting finish of 1 more threads\n",
            "2020-12-05 06:52:39,243 : INFO : worker thread finished; awaiting finish of 0 more threads\n",
            "2020-12-05 06:52:39,244 : INFO : EPOCH - 23 : training on 67030 raw words (43541 effective words) took 0.6s, 75291 effective words/s\n",
            "2020-12-05 06:52:39,779 : INFO : worker thread finished; awaiting finish of 2 more threads\n",
            "2020-12-05 06:52:39,824 : INFO : worker thread finished; awaiting finish of 1 more threads\n",
            "2020-12-05 06:52:39,850 : INFO : worker thread finished; awaiting finish of 0 more threads\n",
            "2020-12-05 06:52:39,852 : INFO : EPOCH - 24 : training on 67030 raw words (43544 effective words) took 0.6s, 72123 effective words/s\n",
            "2020-12-05 06:52:40,359 : INFO : worker thread finished; awaiting finish of 2 more threads\n",
            "2020-12-05 06:52:40,407 : INFO : worker thread finished; awaiting finish of 1 more threads\n",
            "2020-12-05 06:52:40,437 : INFO : worker thread finished; awaiting finish of 0 more threads\n",
            "2020-12-05 06:52:40,439 : INFO : EPOCH - 25 : training on 67030 raw words (43540 effective words) took 0.6s, 74547 effective words/s\n",
            "2020-12-05 06:52:40,966 : INFO : worker thread finished; awaiting finish of 2 more threads\n",
            "2020-12-05 06:52:40,992 : INFO : worker thread finished; awaiting finish of 1 more threads\n",
            "2020-12-05 06:52:41,041 : INFO : worker thread finished; awaiting finish of 0 more threads\n",
            "2020-12-05 06:52:41,042 : INFO : EPOCH - 26 : training on 67030 raw words (43538 effective words) took 0.6s, 72745 effective words/s\n",
            "2020-12-05 06:52:41,572 : INFO : worker thread finished; awaiting finish of 2 more threads\n",
            "2020-12-05 06:52:41,586 : INFO : worker thread finished; awaiting finish of 1 more threads\n",
            "2020-12-05 06:52:41,622 : INFO : worker thread finished; awaiting finish of 0 more threads\n",
            "2020-12-05 06:52:41,623 : INFO : EPOCH - 27 : training on 67030 raw words (43445 effective words) took 0.6s, 75512 effective words/s\n",
            "2020-12-05 06:52:42,144 : INFO : worker thread finished; awaiting finish of 2 more threads\n",
            "2020-12-05 06:52:42,180 : INFO : worker thread finished; awaiting finish of 1 more threads\n",
            "2020-12-05 06:52:42,202 : INFO : worker thread finished; awaiting finish of 0 more threads\n",
            "2020-12-05 06:52:42,204 : INFO : EPOCH - 28 : training on 67030 raw words (43531 effective words) took 0.6s, 75674 effective words/s\n",
            "2020-12-05 06:52:42,698 : INFO : worker thread finished; awaiting finish of 2 more threads\n",
            "2020-12-05 06:52:42,731 : INFO : worker thread finished; awaiting finish of 1 more threads\n",
            "2020-12-05 06:52:42,776 : INFO : worker thread finished; awaiting finish of 0 more threads\n",
            "2020-12-05 06:52:42,777 : INFO : EPOCH - 29 : training on 67030 raw words (43569 effective words) took 0.6s, 77077 effective words/s\n",
            "2020-12-05 06:52:43,284 : INFO : worker thread finished; awaiting finish of 2 more threads\n",
            "2020-12-05 06:52:43,287 : INFO : worker thread finished; awaiting finish of 1 more threads\n",
            "2020-12-05 06:52:43,361 : INFO : worker thread finished; awaiting finish of 0 more threads\n",
            "2020-12-05 06:52:43,362 : INFO : EPOCH - 30 : training on 67030 raw words (43478 effective words) took 0.6s, 74813 effective words/s\n",
            "2020-12-05 06:52:43,882 : INFO : worker thread finished; awaiting finish of 2 more threads\n",
            "2020-12-05 06:52:43,890 : INFO : worker thread finished; awaiting finish of 1 more threads\n",
            "2020-12-05 06:52:43,947 : INFO : worker thread finished; awaiting finish of 0 more threads\n",
            "2020-12-05 06:52:43,948 : INFO : EPOCH - 31 : training on 67030 raw words (43539 effective words) took 0.6s, 75298 effective words/s\n",
            "2020-12-05 06:52:44,443 : INFO : worker thread finished; awaiting finish of 2 more threads\n",
            "2020-12-05 06:52:44,474 : INFO : worker thread finished; awaiting finish of 1 more threads\n",
            "2020-12-05 06:52:44,534 : INFO : worker thread finished; awaiting finish of 0 more threads\n",
            "2020-12-05 06:52:44,535 : INFO : EPOCH - 32 : training on 67030 raw words (43699 effective words) took 0.6s, 75439 effective words/s\n",
            "2020-12-05 06:52:45,061 : INFO : worker thread finished; awaiting finish of 2 more threads\n",
            "2020-12-05 06:52:45,093 : INFO : worker thread finished; awaiting finish of 1 more threads\n",
            "2020-12-05 06:52:45,096 : INFO : worker thread finished; awaiting finish of 0 more threads\n",
            "2020-12-05 06:52:45,097 : INFO : EPOCH - 33 : training on 67030 raw words (43587 effective words) took 0.6s, 78021 effective words/s\n",
            "2020-12-05 06:52:45,608 : INFO : worker thread finished; awaiting finish of 2 more threads\n",
            "2020-12-05 06:52:45,662 : INFO : worker thread finished; awaiting finish of 1 more threads\n",
            "2020-12-05 06:52:45,680 : INFO : worker thread finished; awaiting finish of 0 more threads\n",
            "2020-12-05 06:52:45,682 : INFO : EPOCH - 34 : training on 67030 raw words (43554 effective words) took 0.6s, 75608 effective words/s\n",
            "2020-12-05 06:52:46,168 : INFO : worker thread finished; awaiting finish of 2 more threads\n",
            "2020-12-05 06:52:46,193 : INFO : worker thread finished; awaiting finish of 1 more threads\n",
            "2020-12-05 06:52:46,259 : INFO : worker thread finished; awaiting finish of 0 more threads\n",
            "2020-12-05 06:52:46,260 : INFO : EPOCH - 35 : training on 67030 raw words (43593 effective words) took 0.6s, 75804 effective words/s\n",
            "2020-12-05 06:52:46,744 : INFO : worker thread finished; awaiting finish of 2 more threads\n",
            "2020-12-05 06:52:46,786 : INFO : worker thread finished; awaiting finish of 1 more threads\n",
            "2020-12-05 06:52:46,829 : INFO : worker thread finished; awaiting finish of 0 more threads\n",
            "2020-12-05 06:52:46,831 : INFO : EPOCH - 36 : training on 67030 raw words (43519 effective words) took 0.6s, 76823 effective words/s\n",
            "2020-12-05 06:52:47,332 : INFO : worker thread finished; awaiting finish of 2 more threads\n",
            "2020-12-05 06:52:47,384 : INFO : worker thread finished; awaiting finish of 1 more threads\n",
            "2020-12-05 06:52:47,418 : INFO : worker thread finished; awaiting finish of 0 more threads\n",
            "2020-12-05 06:52:47,421 : INFO : EPOCH - 37 : training on 67030 raw words (43541 effective words) took 0.6s, 74144 effective words/s\n",
            "2020-12-05 06:52:47,919 : INFO : worker thread finished; awaiting finish of 2 more threads\n",
            "2020-12-05 06:52:47,926 : INFO : worker thread finished; awaiting finish of 1 more threads\n",
            "2020-12-05 06:52:47,992 : INFO : worker thread finished; awaiting finish of 0 more threads\n",
            "2020-12-05 06:52:47,993 : INFO : EPOCH - 38 : training on 67030 raw words (43562 effective words) took 0.6s, 76962 effective words/s\n",
            "2020-12-05 06:52:48,503 : INFO : worker thread finished; awaiting finish of 2 more threads\n",
            "2020-12-05 06:52:48,514 : INFO : worker thread finished; awaiting finish of 1 more threads\n",
            "2020-12-05 06:52:48,580 : INFO : worker thread finished; awaiting finish of 0 more threads\n",
            "2020-12-05 06:52:48,582 : INFO : EPOCH - 39 : training on 67030 raw words (43611 effective words) took 0.6s, 75274 effective words/s\n",
            "2020-12-05 06:52:49,080 : INFO : worker thread finished; awaiting finish of 2 more threads\n",
            "2020-12-05 06:52:49,106 : INFO : worker thread finished; awaiting finish of 1 more threads\n",
            "2020-12-05 06:52:49,160 : INFO : worker thread finished; awaiting finish of 0 more threads\n",
            "2020-12-05 06:52:49,162 : INFO : EPOCH - 40 : training on 67030 raw words (43552 effective words) took 0.6s, 75785 effective words/s\n",
            "2020-12-05 06:52:49,674 : INFO : worker thread finished; awaiting finish of 2 more threads\n",
            "2020-12-05 06:52:49,687 : INFO : worker thread finished; awaiting finish of 1 more threads\n",
            "2020-12-05 06:52:49,736 : INFO : worker thread finished; awaiting finish of 0 more threads\n",
            "2020-12-05 06:52:49,737 : INFO : EPOCH - 41 : training on 67030 raw words (43601 effective words) took 0.6s, 76478 effective words/s\n",
            "2020-12-05 06:52:50,274 : INFO : worker thread finished; awaiting finish of 2 more threads\n",
            "2020-12-05 06:52:50,306 : INFO : worker thread finished; awaiting finish of 1 more threads\n",
            "2020-12-05 06:52:50,307 : INFO : worker thread finished; awaiting finish of 0 more threads\n",
            "2020-12-05 06:52:50,308 : INFO : EPOCH - 42 : training on 67030 raw words (43551 effective words) took 0.6s, 76742 effective words/s\n",
            "2020-12-05 06:52:50,819 : INFO : worker thread finished; awaiting finish of 2 more threads\n",
            "2020-12-05 06:52:50,859 : INFO : worker thread finished; awaiting finish of 1 more threads\n",
            "2020-12-05 06:52:50,874 : INFO : worker thread finished; awaiting finish of 0 more threads\n",
            "2020-12-05 06:52:50,875 : INFO : EPOCH - 43 : training on 67030 raw words (43477 effective words) took 0.6s, 77872 effective words/s\n",
            "2020-12-05 06:52:51,441 : INFO : worker thread finished; awaiting finish of 2 more threads\n",
            "2020-12-05 06:52:51,465 : INFO : worker thread finished; awaiting finish of 1 more threads\n",
            "2020-12-05 06:52:51,481 : INFO : worker thread finished; awaiting finish of 0 more threads\n",
            "2020-12-05 06:52:51,482 : INFO : EPOCH - 44 : training on 67030 raw words (43572 effective words) took 0.6s, 72677 effective words/s\n",
            "2020-12-05 06:52:51,968 : INFO : worker thread finished; awaiting finish of 2 more threads\n",
            "2020-12-05 06:52:51,986 : INFO : worker thread finished; awaiting finish of 1 more threads\n",
            "2020-12-05 06:52:52,052 : INFO : worker thread finished; awaiting finish of 0 more threads\n",
            "2020-12-05 06:52:52,053 : INFO : EPOCH - 45 : training on 67030 raw words (43488 effective words) took 0.6s, 76956 effective words/s\n",
            "2020-12-05 06:52:52,553 : INFO : worker thread finished; awaiting finish of 2 more threads\n",
            "2020-12-05 06:52:52,593 : INFO : worker thread finished; awaiting finish of 1 more threads\n",
            "2020-12-05 06:52:52,635 : INFO : worker thread finished; awaiting finish of 0 more threads\n",
            "2020-12-05 06:52:52,637 : INFO : EPOCH - 46 : training on 67030 raw words (43572 effective words) took 0.6s, 75424 effective words/s\n",
            "2020-12-05 06:52:53,137 : INFO : worker thread finished; awaiting finish of 2 more threads\n",
            "2020-12-05 06:52:53,159 : INFO : worker thread finished; awaiting finish of 1 more threads\n",
            "2020-12-05 06:52:53,203 : INFO : worker thread finished; awaiting finish of 0 more threads\n",
            "2020-12-05 06:52:53,204 : INFO : EPOCH - 47 : training on 67030 raw words (43564 effective words) took 0.6s, 77442 effective words/s\n",
            "2020-12-05 06:52:53,708 : INFO : worker thread finished; awaiting finish of 2 more threads\n",
            "2020-12-05 06:52:53,727 : INFO : worker thread finished; awaiting finish of 1 more threads\n",
            "2020-12-05 06:52:53,788 : INFO : worker thread finished; awaiting finish of 0 more threads\n",
            "2020-12-05 06:52:53,790 : INFO : EPOCH - 48 : training on 67030 raw words (43643 effective words) took 0.6s, 75401 effective words/s\n",
            "2020-12-05 06:52:54,302 : INFO : worker thread finished; awaiting finish of 2 more threads\n",
            "2020-12-05 06:52:54,320 : INFO : worker thread finished; awaiting finish of 1 more threads\n",
            "2020-12-05 06:52:54,372 : INFO : worker thread finished; awaiting finish of 0 more threads\n",
            "2020-12-05 06:52:54,374 : INFO : EPOCH - 49 : training on 67030 raw words (43458 effective words) took 0.6s, 74830 effective words/s\n",
            "2020-12-05 06:52:54,887 : INFO : worker thread finished; awaiting finish of 2 more threads\n",
            "2020-12-05 06:52:54,915 : INFO : worker thread finished; awaiting finish of 1 more threads\n",
            "2020-12-05 06:52:54,939 : INFO : worker thread finished; awaiting finish of 0 more threads\n",
            "2020-12-05 06:52:54,940 : INFO : EPOCH - 50 : training on 67030 raw words (43483 effective words) took 0.6s, 77563 effective words/s\n",
            "2020-12-05 06:52:54,941 : INFO : training on a 3351500 raw words (2177211 effective words) took 29.1s, 74765 effective words/s\n"
          ],
          "name": "stderr"
        }
      ]
    },
    {
      "cell_type": "code",
      "metadata": {
        "colab": {
          "base_uri": "https://localhost:8080/"
        },
        "id": "4kYRNB8PrOHU",
        "outputId": "47f17cf9-aabe-4bf8-f81b-b9e7dbf4efc8"
      },
      "source": [
        "s = input('類似度の計測をしたい単語を入力：')\n",
        "try:\n",
        "    results = model_w2v.most_similar(positive=[s], topn=20)\n",
        "    for i, result in enumerate(results):\n",
        "        print(i+1, '\\t', '{0:.5f}'.format(result[1]), ' ', result[0])\n",
        "except KeyError:\n",
        "    print('{}が辞書の中に入っていない'.format(s))"
      ],
      "execution_count": 33,
      "outputs": [
        {
          "output_type": "stream",
          "text": [
            "類似度の計測をしたい単語を入力：人間\n",
            "1 \t 0.36756   動物\n",
            "2 \t 0.35593   歴史\n",
            "3 \t 0.32199   する\n",
            "4 \t 0.31371   証明\n",
            "5 \t 0.31321   衣服\n",
            "6 \t 0.29793   案出\n",
            "7 \t 0.29272   古物\n",
            "8 \t 0.29130   糞\n",
            "9 \t 0.29111   縛する\n",
            "10 \t 0.29008   無能\n",
            "11 \t 0.28598   能力\n",
            "12 \t 0.28529   珍重\n",
            "13 \t 0.28410   もっとも\n",
            "14 \t 0.28299   愛\n",
            "15 \t 0.28049   個人\n",
            "16 \t 0.27950   赤裸\n",
            "17 \t 0.27722   同一\n",
            "18 \t 0.27673   なる\n",
            "19 \t 0.27572   出来る\n",
            "20 \t 0.27512   結果\n"
          ],
          "name": "stdout"
        },
        {
          "output_type": "stream",
          "text": [
            "/usr/local/lib/python3.6/dist-packages/ipykernel_launcher.py:3: DeprecationWarning: Call to deprecated `most_similar` (Method will be removed in 4.0.0, use self.wv.most_similar() instead).\n",
            "  This is separate from the ipykernel package so we can avoid doing imports until\n",
            "/usr/local/lib/python3.6/dist-packages/gensim/matutils.py:737: FutureWarning: Conversion of the second argument of issubdtype from `int` to `np.signedinteger` is deprecated. In future, it will be treated as `np.int64 == np.dtype(int).type`.\n",
            "  if np.issubdtype(vec.dtype, np.int):\n"
          ],
          "name": "stderr"
        }
      ]
    },
    {
      "cell_type": "code",
      "metadata": {
        "id": "ywK8fpuvrhOI"
      },
      "source": [
        ""
      ],
      "execution_count": null,
      "outputs": []
    }
  ]
}