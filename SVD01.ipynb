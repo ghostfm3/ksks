{
  "nbformat": 4,
  "nbformat_minor": 0,
  "metadata": {
    "colab": {
      "name": "SVD01.ipynb",
      "provenance": [],
      "collapsed_sections": [],
      "authorship_tag": "ABX9TyPcW1Rpod2xLa95R5IOt6W6",
      "include_colab_link": true
    },
    "kernelspec": {
      "name": "python3",
      "display_name": "Python 3"
    }
  },
  "cells": [
    {
      "cell_type": "markdown",
      "metadata": {
        "id": "view-in-github",
        "colab_type": "text"
      },
      "source": [
        "<a href=\"https://colab.research.google.com/github/ghostfm3/ksks/blob/master/SVD01.ipynb\" target=\"_parent\"><img src=\"https://colab.research.google.com/assets/colab-badge.svg\" alt=\"Open In Colab\"/></a>"
      ]
    },
    {
      "cell_type": "code",
      "metadata": {
        "id": "Fkt8fcEwa_hw"
      },
      "source": [
        "import sys\r\n",
        "sys.path.append('..')\r\n",
        "import numpy as np\r\n",
        "import matplotlib.pyplot as plt\r\n",
        "\r\n",
        "def preprocess(text):\r\n",
        "    text = text.lower()\r\n",
        "    text = text.replace('.', ' .')\r\n",
        "    words = text.split(' ')\r\n",
        "\r\n",
        "    word_to_id = {}\r\n",
        "    id_to_word = {}\r\n",
        "    for word in words:\r\n",
        "        if word not in word_to_id:\r\n",
        "            new_id = len(word_to_id)\r\n",
        "            word_to_id[word] = new_id\r\n",
        "            id_to_word[new_id] = word\r\n",
        "\r\n",
        "    corpus = np.array([word_to_id[w] for w in words])\r\n",
        "\r\n",
        "    return corpus, word_to_id, id_to_word\r\n",
        "\r\n",
        "def create_co_matrix(corpus, vocab_size, window_size=1):\r\n",
        "    '''共起行列の作成\r\n",
        "    :param corpus: コーパス（単語IDのリスト）\r\n",
        "    :param vocab_size:語彙数\r\n",
        "    :param window_size:ウィンドウサイズ（ウィンドウサイズが1のときは、単語の左右1単語がコンテキスト）\r\n",
        "    :return: 共起行列\r\n",
        "    '''\r\n",
        "    corpus_size = len(corpus)\r\n",
        "    co_matrix = np.zeros((vocab_size, vocab_size), dtype=np.int32)\r\n",
        "\r\n",
        "    for idx, word_id in enumerate(corpus):\r\n",
        "        for i in range(1, window_size + 1):\r\n",
        "            left_idx = idx - i\r\n",
        "            right_idx = idx + i\r\n",
        "\r\n",
        "            if left_idx >= 0:\r\n",
        "                left_word_id = corpus[left_idx]\r\n",
        "                co_matrix[word_id, left_word_id] += 1\r\n",
        "\r\n",
        "            if right_idx < corpus_size:\r\n",
        "                right_word_id = corpus[right_idx]\r\n",
        "                co_matrix[word_id, right_word_id] += 1\r\n",
        "\r\n",
        "    return co_matrix\r\n",
        "\r\n",
        "def ppmi(C, verbose=False, eps = 1e-8):\r\n",
        "    '''PPMI（正の相互情報量）の作成\r\n",
        "    :param C: 共起行列\r\n",
        "    :param verbose: 進行状況を出力するかどうか\r\n",
        "    :return:\r\n",
        "    '''\r\n",
        "    M = np.zeros_like(C, dtype=np.float32)\r\n",
        "    N = np.sum(C)\r\n",
        "    S = np.sum(C, axis=0)\r\n",
        "    total = C.shape[0] * C.shape[1]\r\n",
        "    cnt = 0\r\n",
        "\r\n",
        "    for i in range(C.shape[0]):\r\n",
        "        for j in range(C.shape[1]):\r\n",
        "            pmi = np.log2(C[i, j] * N / (S[j]*S[i]) + eps)\r\n",
        "            M[i, j] = max(0, pmi)\r\n",
        "\r\n",
        "            if verbose:\r\n",
        "                cnt += 1\r\n",
        "                if cnt % (total//100 + 1) == 0:\r\n",
        "                    print('%.1f%% done' % (100*cnt/total))\r\n",
        "    return M\r\n",
        "\r\n",
        "text =  'きのう も 私 は その 料理 を 食べました 。'\r\n",
        "corpus, word_to_id, id_to_word = preprocess(text)\r\n",
        "vocab_size = len(id_to_word)\r\n",
        "C = create_co_matrix(corpus, vocab_size, window_size=1)\r\n",
        "W = ppmi(C)\r\n",
        "\r\n",
        "U, S, V = np.linalg.svd(W)"
      ],
      "execution_count": 21,
      "outputs": []
    },
    {
      "cell_type": "code",
      "metadata": {
        "colab": {
          "base_uri": "https://localhost:8080/"
        },
        "id": "8eOYY6hqeaB2",
        "outputId": "6817e204-47f9-4845-f790-a3ac894f0513"
      },
      "source": [
        "print(C[0])"
      ],
      "execution_count": 22,
      "outputs": [
        {
          "output_type": "stream",
          "text": [
            "[0 1 0 0 0 0 0 0 0]\n"
          ],
          "name": "stdout"
        }
      ]
    },
    {
      "cell_type": "code",
      "metadata": {
        "colab": {
          "base_uri": "https://localhost:8080/"
        },
        "id": "37Zr_BGledNg",
        "outputId": "76416755-7e89-48f0-b12b-5852e3982fce"
      },
      "source": [
        "print(W[0])"
      ],
      "execution_count": 23,
      "outputs": [
        {
          "output_type": "stream",
          "text": [
            "[0. 3. 0. 0. 0. 0. 0. 0. 0.]\n"
          ],
          "name": "stdout"
        }
      ]
    },
    {
      "cell_type": "code",
      "metadata": {
        "colab": {
          "base_uri": "https://localhost:8080/"
        },
        "id": "euTfjSbQdXim",
        "outputId": "094fd2ff-a633-4a58-ebca-ae1e32ad59b6"
      },
      "source": [
        "print(U[0])\r\n",
        "print(U[1])\r\n",
        "print(U[2])\r\n",
        "print(U[3])\r\n",
        "print(U[4])\r\n",
        "print(U[5])\r\n",
        "print(U[6])\r\n",
        "print(U[7])\r\n",
        "print(U[8])"
      ],
      "execution_count": 24,
      "outputs": [
        {
          "output_type": "stream",
          "text": [
            "[ 0.          0.39113787 -0.52034736  0.         -0.48241627  0.\n",
            " -0.4787887   0.         -0.3380617 ]\n",
            "[-0.53010255  0.          0.          0.66094804  0.         -0.46796507\n",
            "  0.          0.251292    0.        ]\n",
            "[ 0.          0.49095163 -0.4787887   0.          0.0427042   0.\n",
            "  0.52034736  0.          0.50709254]\n",
            "[-0.46796507  0.          0.          0.251292    0.          0.53010255\n",
            "  0.         -0.66094804  0.        ]\n",
            "[ 0.0000000e+00  4.6038607e-01  1.1574242e-17  0.0000000e+00\n",
            "  7.2863007e-01  0.0000000e+00  6.2376578e-17  0.0000000e+00\n",
            " -5.0709254e-01]\n",
            "[-0.46796507  0.          0.         -0.251292    0.          0.53010255\n",
            "  0.          0.66094804  0.        ]\n",
            "[ 0.          0.49095163  0.4787887   0.          0.0427042   0.\n",
            " -0.52034736  0.          0.50709254]\n",
            "[-0.53010255  0.          0.         -0.66094804  0.         -0.46796507\n",
            "  0.         -0.251292    0.        ]\n",
            "[ 0.          0.39113787  0.52034736  0.         -0.48241627  0.\n",
            "  0.4787887   0.         -0.3380617 ]\n"
          ],
          "name": "stdout"
        }
      ]
    },
    {
      "cell_type": "code",
      "metadata": {
        "colab": {
          "base_uri": "https://localhost:8080/"
        },
        "id": "yw7KvA_Kekbt",
        "outputId": "f2011768-fb6d-4e8a-ff9d-5f50474473bf"
      },
      "source": [
        "print(U[0, :2])"
      ],
      "execution_count": 25,
      "outputs": [
        {
          "output_type": "stream",
          "text": [
            "[0.         0.39113787]\n"
          ],
          "name": "stdout"
        }
      ]
    },
    {
      "cell_type": "code",
      "metadata": {
        "colab": {
          "base_uri": "https://localhost:8080/",
          "height": 1000
        },
        "id": "zWTejgD9eoxM",
        "outputId": "33198ea3-5274-4962-82e7-67f023e85012"
      },
      "source": [
        "for word, word_id in word_to_id.items():\r\n",
        "  plt.annotate(word, (U[word_id, 0], U[word_id, 1]))\r\n",
        "\r\n",
        "  plt.scatter(U[:,0], U[:,1], alpha=0.5)\r\n",
        "  plt.show() "
      ],
      "execution_count": 26,
      "outputs": [
        {
          "output_type": "stream",
          "text": [
            "/usr/local/lib/python3.6/dist-packages/matplotlib/backends/backend_agg.py:214: RuntimeWarning: Glyph 12365 missing from current font.\n",
            "  font.set_text(s, 0.0, flags=flags)\n",
            "/usr/local/lib/python3.6/dist-packages/matplotlib/backends/backend_agg.py:214: RuntimeWarning: Glyph 12398 missing from current font.\n",
            "  font.set_text(s, 0.0, flags=flags)\n",
            "/usr/local/lib/python3.6/dist-packages/matplotlib/backends/backend_agg.py:214: RuntimeWarning: Glyph 12358 missing from current font.\n",
            "  font.set_text(s, 0.0, flags=flags)\n",
            "/usr/local/lib/python3.6/dist-packages/matplotlib/backends/backend_agg.py:183: RuntimeWarning: Glyph 12365 missing from current font.\n",
            "  font.set_text(s, 0, flags=flags)\n",
            "/usr/local/lib/python3.6/dist-packages/matplotlib/backends/backend_agg.py:183: RuntimeWarning: Glyph 12398 missing from current font.\n",
            "  font.set_text(s, 0, flags=flags)\n",
            "/usr/local/lib/python3.6/dist-packages/matplotlib/backends/backend_agg.py:183: RuntimeWarning: Glyph 12358 missing from current font.\n",
            "  font.set_text(s, 0, flags=flags)\n"
          ],
          "name": "stderr"
        },
        {
          "output_type": "display_data",
          "data": {
            "image/png": "[encoded data removed]",
            "text/plain": [
              "<Figure size 432x288 with 1 Axes>"
            ]
          },
          "metadata": {
            "tags": [],
            "needs_background": "light"
          }
        },
        {
          "output_type": "stream",
          "text": [
            "/usr/local/lib/python3.6/dist-packages/matplotlib/backends/backend_agg.py:214: RuntimeWarning: Glyph 12418 missing from current font.\n",
            "  font.set_text(s, 0.0, flags=flags)\n",
            "/usr/local/lib/python3.6/dist-packages/matplotlib/backends/backend_agg.py:183: RuntimeWarning: Glyph 12418 missing from current font.\n",
            "  font.set_text(s, 0, flags=flags)\n"
          ],
          "name": "stderr"
        },
        {
          "output_type": "display_data",
          "data": {
            "image/png": "[encoded data removed]",
            "text/plain": [
              "<Figure size 432x288 with 1 Axes>"
            ]
          },
          "metadata": {
            "tags": [],
            "needs_background": "light"
          }
        },
        {
          "output_type": "stream",
          "text": [
            "/usr/local/lib/python3.6/dist-packages/matplotlib/backends/backend_agg.py:214: RuntimeWarning: Glyph 31169 missing from current font.\n",
            "  font.set_text(s, 0.0, flags=flags)\n",
            "/usr/local/lib/python3.6/dist-packages/matplotlib/backends/backend_agg.py:183: RuntimeWarning: Glyph 31169 missing from current font.\n",
            "  font.set_text(s, 0, flags=flags)\n"
          ],
          "name": "stderr"
        },
        {
          "output_type": "display_data",
          "data": {
            "image/png": "[encoded data removed]",
            "text/plain": [
              "<Figure size 432x288 with 1 Axes>"
            ]
          },
          "metadata": {
            "tags": [],
            "needs_background": "light"
          }
        },
        {
          "output_type": "stream",
          "text": [
            "/usr/local/lib/python3.6/dist-packages/matplotlib/backends/backend_agg.py:214: RuntimeWarning: Glyph 12399 missing from current font.\n",
            "  font.set_text(s, 0.0, flags=flags)\n",
            "/usr/local/lib/python3.6/dist-packages/matplotlib/backends/backend_agg.py:183: RuntimeWarning: Glyph 12399 missing from current font.\n",
            "  font.set_text(s, 0, flags=flags)\n"
          ],
          "name": "stderr"
        },
        {
          "output_type": "display_data",
          "data": {
            "image/png": "[encoded data removed]",
            "text/plain": [
              "<Figure size 432x288 with 1 Axes>"
            ]
          },
          "metadata": {
            "tags": [],
            "needs_background": "light"
          }
        },
        {
          "output_type": "stream",
          "text": [
            "/usr/local/lib/python3.6/dist-packages/matplotlib/backends/backend_agg.py:214: RuntimeWarning: Glyph 12381 missing from current font.\n",
            "  font.set_text(s, 0.0, flags=flags)\n",
            "/usr/local/lib/python3.6/dist-packages/matplotlib/backends/backend_agg.py:183: RuntimeWarning: Glyph 12381 missing from current font.\n",
            "  font.set_text(s, 0, flags=flags)\n"
          ],
          "name": "stderr"
        },
        {
          "output_type": "display_data",
          "data": {
            "image/png": "[encoded data removed]",
            "text/plain": [
              "<Figure size 432x288 with 1 Axes>"
            ]
          },
          "metadata": {
            "tags": [],
            "needs_background": "light"
          }
        },
        {
          "output_type": "stream",
          "text": [
            "/usr/local/lib/python3.6/dist-packages/matplotlib/backends/backend_agg.py:214: RuntimeWarning: Glyph 26009 missing from current font.\n",
            "  font.set_text(s, 0.0, flags=flags)\n",
            "/usr/local/lib/python3.6/dist-packages/matplotlib/backends/backend_agg.py:214: RuntimeWarning: Glyph 29702 missing from current font.\n",
            "  font.set_text(s, 0.0, flags=flags)\n",
            "/usr/local/lib/python3.6/dist-packages/matplotlib/backends/backend_agg.py:183: RuntimeWarning: Glyph 26009 missing from current font.\n",
            "  font.set_text(s, 0, flags=flags)\n",
            "/usr/local/lib/python3.6/dist-packages/matplotlib/backends/backend_agg.py:183: RuntimeWarning: Glyph 29702 missing from current font.\n",
            "  font.set_text(s, 0, flags=flags)\n"
          ],
          "name": "stderr"
        },
        {
          "output_type": "display_data",
          "data": {
            "image/png": "[encoded data removed]",
            "text/plain": [
              "<Figure size 432x288 with 1 Axes>"
            ]
          },
          "metadata": {
            "tags": [],
            "needs_background": "light"
          }
        },
        {
          "output_type": "stream",
          "text": [
            "/usr/local/lib/python3.6/dist-packages/matplotlib/backends/backend_agg.py:214: RuntimeWarning: Glyph 12434 missing from current font.\n",
            "  font.set_text(s, 0.0, flags=flags)\n",
            "/usr/local/lib/python3.6/dist-packages/matplotlib/backends/backend_agg.py:183: RuntimeWarning: Glyph 12434 missing from current font.\n",
            "  font.set_text(s, 0, flags=flags)\n"
          ],
          "name": "stderr"
        },
        {
          "output_type": "display_data",
          "data": {
            "image/png": "[encoded data removed]",
            "text/plain": [
              "<Figure size 432x288 with 1 Axes>"
            ]
          },
          "metadata": {
            "tags": [],
            "needs_background": "light"
          }
        },
        {
          "output_type": "stream",
          "text": [
            "/usr/local/lib/python3.6/dist-packages/matplotlib/backends/backend_agg.py:214: RuntimeWarning: Glyph 39135 missing from current font.\n",
            "  font.set_text(s, 0.0, flags=flags)\n",
            "/usr/local/lib/python3.6/dist-packages/matplotlib/backends/backend_agg.py:214: RuntimeWarning: Glyph 12409 missing from current font.\n",
            "  font.set_text(s, 0.0, flags=flags)\n",
            "/usr/local/lib/python3.6/dist-packages/matplotlib/backends/backend_agg.py:214: RuntimeWarning: Glyph 12414 missing from current font.\n",
            "  font.set_text(s, 0.0, flags=flags)\n",
            "/usr/local/lib/python3.6/dist-packages/matplotlib/backends/backend_agg.py:214: RuntimeWarning: Glyph 12375 missing from current font.\n",
            "  font.set_text(s, 0.0, flags=flags)\n",
            "/usr/local/lib/python3.6/dist-packages/matplotlib/backends/backend_agg.py:214: RuntimeWarning: Glyph 12383 missing from current font.\n",
            "  font.set_text(s, 0.0, flags=flags)\n",
            "/usr/local/lib/python3.6/dist-packages/matplotlib/backends/backend_agg.py:183: RuntimeWarning: Glyph 39135 missing from current font.\n",
            "  font.set_text(s, 0, flags=flags)\n",
            "/usr/local/lib/python3.6/dist-packages/matplotlib/backends/backend_agg.py:183: RuntimeWarning: Glyph 12409 missing from current font.\n",
            "  font.set_text(s, 0, flags=flags)\n",
            "/usr/local/lib/python3.6/dist-packages/matplotlib/backends/backend_agg.py:183: RuntimeWarning: Glyph 12414 missing from current font.\n",
            "  font.set_text(s, 0, flags=flags)\n",
            "/usr/local/lib/python3.6/dist-packages/matplotlib/backends/backend_agg.py:183: RuntimeWarning: Glyph 12375 missing from current font.\n",
            "  font.set_text(s, 0, flags=flags)\n",
            "/usr/local/lib/python3.6/dist-packages/matplotlib/backends/backend_agg.py:183: RuntimeWarning: Glyph 12383 missing from current font.\n",
            "  font.set_text(s, 0, flags=flags)\n"
          ],
          "name": "stderr"
        },
        {
          "output_type": "display_data",
          "data": {
            "image/png": "[encoded data removed]",
            "text/plain": [
              "<Figure size 432x288 with 1 Axes>"
            ]
          },
          "metadata": {
            "tags": [],
            "needs_background": "light"
          }
        },
        {
          "output_type": "stream",
          "text": [
            "/usr/local/lib/python3.6/dist-packages/matplotlib/backends/backend_agg.py:214: RuntimeWarning: Glyph 12290 missing from current font.\n",
            "  font.set_text(s, 0.0, flags=flags)\n",
            "/usr/local/lib/python3.6/dist-packages/matplotlib/backends/backend_agg.py:183: RuntimeWarning: Glyph 12290 missing from current font.\n",
            "  font.set_text(s, 0, flags=flags)\n"
          ],
          "name": "stderr"
        },
        {
          "output_type": "display_data",
          "data": {
            "image/png": "[encoded data removed]",
            "text/plain": [
              "<Figure size 432x288 with 1 Axes>"
            ]
          },
          "metadata": {
            "tags": [],
            "needs_background": "light"
          }
        }
      ]
    }
  ]
}