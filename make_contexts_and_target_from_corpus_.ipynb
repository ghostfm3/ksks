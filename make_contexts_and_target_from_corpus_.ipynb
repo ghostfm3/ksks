{
  "nbformat": 4,
  "nbformat_minor": 0,
  "metadata": {
    "colab": {
      "name": "make contexts and target from corpus .ipynb",
      "provenance": [],
      "collapsed_sections": [],
      "authorship_tag": "ABX9TyMuBocMD8YbyH/JE+wl6+dL",
      "include_colab_link": true
    },
    "kernelspec": {
      "name": "python3",
      "display_name": "Python 3"
    }
  },
  "cells": [
    {
      "cell_type": "markdown",
      "metadata": {
        "id": "view-in-github",
        "colab_type": "text"
      },
      "source": [
        "<a href=\"https://colab.research.google.com/github/ghostfm3/ksks/blob/master/make_contexts_and_target_from_corpus_.ipynb\" target=\"_parent\"><img src=\"https://colab.research.google.com/assets/colab-badge.svg\" alt=\"Open In Colab\"/></a>"
      ]
    },
    {
      "cell_type": "code",
      "metadata": {
        "colab": {
          "base_uri": "https://localhost:8080/"
        },
        "id": "Z12KK4NwCCg8",
        "outputId": "693feeb3-4641-428f-9d20-188a51df3395"
      },
      "source": [
        "import sys\r\n",
        "import numpy as np\r\n",
        "sys.path.append('..')\r\n",
        "def preprocess(text):\r\n",
        "  text = text.lower()\r\n",
        "  text = text.replace('.', ' .')\r\n",
        "  words = text.split(' ')\r\n",
        "\r\n",
        "  word_to_id = {}\r\n",
        "  id_to_word = {}\r\n",
        "  for word in words:\r\n",
        "    if word not in word_to_id:\r\n",
        "      new_id = len(word_to_id)\r\n",
        "      word_to_id[word] = new_id\r\n",
        "      id_to_word[new_id] = word \r\n",
        "  \r\n",
        "  corpus = np.array([word_to_id[w] for w in words])\r\n",
        "  return corpus, word_to_id, id_to_word\r\n",
        "\r\n",
        "text = 'You say goodbye and I say hello.'\r\n",
        "corpus, word_to_id, id_to_word = preprocess(text)\r\n",
        "print(corpus)\r\n",
        "\r\n",
        "print(id_to_word)"
      ],
      "execution_count": 2,
      "outputs": [
        {
          "output_type": "stream",
          "text": [
            "[0 1 2 3 4 1 5 6]\n",
            "{0: 'you', 1: 'say', 2: 'goodbye', 3: 'and', 4: 'i', 5: 'hello', 6: '.'}\n"
          ],
          "name": "stdout"
        }
      ]
    }
  ]
}