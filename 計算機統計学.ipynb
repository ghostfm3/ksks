{
  "nbformat": 4,
  "nbformat_minor": 0,
  "metadata": {
    "colab": {
      "name": "計算機統計学.ipynb",
      "provenance": [],
      "collapsed_sections": []
    },
    "kernelspec": {
      "name": "python3",
      "display_name": "Python 3"
    }
  },
  "cells": [
    {
      "cell_type": "code",
      "metadata": {
        "id": "fs_aP0MuGif0",
        "colab_type": "code",
        "colab": {
          "base_uri": "https://localhost:8080/",
          "height": 34
        },
        "outputId": "9b2fc4c9-00f1-4e70-81db-a8e423bab89c"
      },
      "source": [
        "!conda install keras"
      ],
      "execution_count": 1,
      "outputs": [
        {
          "output_type": "stream",
          "text": [
            "/bin/bash: conda: command not found\n"
          ],
          "name": "stdout"
        }
      ]
    },
    {
      "cell_type": "code",
      "metadata": {
        "id": "H7ns7W8eGqjC",
        "colab_type": "code",
        "colab": {}
      },
      "source": [
        "import pandas as pd\n",
        "import numpy as np \n",
        "import matplotlib.pyplot as plt \n",
        "\n",
        "%matplotlib inline\n",
        "\n",
        "import keras\n",
        "from keras.models import Sequential\n",
        "from keras.layers import Dense, Activation\n",
        "from keras.optimizers import SGD"
      ],
      "execution_count": 106,
      "outputs": []
    },
    {
      "cell_type": "code",
      "metadata": {
        "id": "ON-1R4t3GwVZ",
        "colab_type": "code",
        "colab": {
          "base_uri": "https://localhost:8080/",
          "height": 87
        },
        "outputId": "4bd637ed-5201-4207-bc1a-08cb5d6723cc"
      },
      "source": [
        "X = np.array([[0],\n",
        "              [1]])\n",
        "T = np.array([[1],\n",
        "              [0]])\n",
        "print (X)\n",
        "print (T)"
      ],
      "execution_count": 169,
      "outputs": [
        {
          "output_type": "stream",
          "text": [
            "[[0]\n",
            " [1]]\n",
            "[[1]\n",
            " [0]]\n"
          ],
          "name": "stdout"
        }
      ]
    },
    {
      "cell_type": "code",
      "metadata": {
        "id": "xyaMpPFZG9so",
        "colab_type": "code",
        "colab": {
          "base_uri": "https://localhost:8080/",
          "height": 229
        },
        "outputId": "a9319015-1f9a-4a41-e852-4c24057071bc"
      },
      "source": [
        "model = Sequential()\n",
        "model.add(Dense(units=1, input_dim=1)) # Dense=全結合層\n",
        "model.add(Activation('sigmoid')) # 活性化関数\n",
        "\n",
        "# 訓練プロセスの作成: 勾配法=SGD、損失関数=binary_crossentropy、評価関数：-）\n",
        "model.compile(loss='binary_crossentropy', optimizer=SGD(lr=0.1))\n",
        "# モデルの概要を表示\n",
        "model.summary()"
      ],
      "execution_count": 170,
      "outputs": [
        {
          "output_type": "stream",
          "text": [
            "Model: \"sequential_21\"\n",
            "_________________________________________________________________\n",
            "Layer (type)                 Output Shape              Param #   \n",
            "=================================================================\n",
            "dense_21 (Dense)             (None, 1)                 2         \n",
            "_________________________________________________________________\n",
            "activation_21 (Activation)   (None, 1)                 0         \n",
            "=================================================================\n",
            "Total params: 2\n",
            "Trainable params: 2\n",
            "Non-trainable params: 0\n",
            "_________________________________________________________________\n"
          ],
          "name": "stdout"
        }
      ]
    },
    {
      "cell_type": "code",
      "metadata": {
        "id": "K7-oH9mBHNqA",
        "colab_type": "code",
        "colab": {
          "base_uri": "https://localhost:8080/",
          "height": 34
        },
        "outputId": "8c92357b-73dd-4e21-e822-72cc6d8ac775"
      },
      "source": [
        "l = model.layers[0]\n",
        "print (l.get_weights())"
      ],
      "execution_count": 171,
      "outputs": [
        {
          "output_type": "stream",
          "text": [
            "[array([[-1.0383713]], dtype=float32), array([0.], dtype=float32)]\n"
          ],
          "name": "stdout"
        }
      ]
    },
    {
      "cell_type": "code",
      "metadata": {
        "id": "3R-zzy39HTCg",
        "colab_type": "code",
        "colab": {
          "base_uri": "https://localhost:8080/",
          "height": 1000
        },
        "outputId": "c1e76319-98a4-43aa-8e87-ae62159a0c25"
      },
      "source": [
        "# 第1引数、第2引数: 入力データ\n",
        "# batch_size: バッチサイズ。\n",
        "# epochs: 訓練を行う回数を指定します。\n",
        "# verbose: 指定する数値により実行ログの出す内容が変わります。\n",
        "# validation_data: 評価用のデータを指定します。\n",
        "# 戻り値・・・訓練の損失値と評価関数値が返ってきます。\n",
        "\n",
        "history = model.fit(X, T, epochs=30, batch_size=1)"
      ],
      "execution_count": 172,
      "outputs": [
        {
          "output_type": "stream",
          "text": [
            "Epoch 1/30\n",
            "2/2 [==============================] - 0s 2ms/step - loss: 0.5047\n",
            "Epoch 2/30\n",
            "2/2 [==============================] - 0s 1ms/step - loss: 0.4983\n",
            "Epoch 3/30\n",
            "2/2 [==============================] - 0s 1ms/step - loss: 0.4921\n",
            "Epoch 4/30\n",
            "2/2 [==============================] - 0s 1ms/step - loss: 0.4861\n",
            "Epoch 5/30\n",
            "2/2 [==============================] - 0s 2ms/step - loss: 0.4801\n",
            "Epoch 6/30\n",
            "2/2 [==============================] - 0s 1ms/step - loss: 0.4743\n",
            "Epoch 7/30\n",
            "2/2 [==============================] - 0s 1ms/step - loss: 0.4686\n",
            "Epoch 8/30\n",
            "2/2 [==============================] - 0s 1ms/step - loss: 0.4629\n",
            "Epoch 9/30\n",
            "2/2 [==============================] - 0s 1ms/step - loss: 0.4574\n",
            "Epoch 10/30\n",
            "2/2 [==============================] - 0s 1ms/step - loss: 0.4521\n",
            "Epoch 11/30\n",
            "2/2 [==============================] - 0s 1ms/step - loss: 0.4468\n",
            "Epoch 12/30\n",
            "2/2 [==============================] - 0s 2ms/step - loss: 0.4416\n",
            "Epoch 13/30\n",
            "2/2 [==============================] - 0s 2ms/step - loss: 0.4365\n",
            "Epoch 14/30\n",
            "2/2 [==============================] - 0s 1ms/step - loss: 0.4316\n",
            "Epoch 15/30\n",
            "2/2 [==============================] - 0s 1ms/step - loss: 0.4267\n",
            "Epoch 16/30\n",
            "2/2 [==============================] - 0s 1ms/step - loss: 0.4219\n",
            "Epoch 17/30\n",
            "2/2 [==============================] - 0s 1ms/step - loss: 0.4172\n",
            "Epoch 18/30\n",
            "2/2 [==============================] - 0s 2ms/step - loss: 0.4125\n",
            "Epoch 19/30\n",
            "2/2 [==============================] - 0s 2ms/step - loss: 0.4080\n",
            "Epoch 20/30\n",
            "2/2 [==============================] - 0s 2ms/step - loss: 0.4036\n",
            "Epoch 21/30\n",
            "2/2 [==============================] - 0s 2ms/step - loss: 0.3992\n",
            "Epoch 22/30\n",
            "2/2 [==============================] - 0s 2ms/step - loss: 0.3949\n",
            "Epoch 23/30\n",
            "2/2 [==============================] - 0s 1ms/step - loss: 0.3907\n",
            "Epoch 24/30\n",
            "2/2 [==============================] - 0s 2ms/step - loss: 0.3865\n",
            "Epoch 25/30\n",
            "2/2 [==============================] - 0s 2ms/step - loss: 0.3825\n",
            "Epoch 26/30\n",
            "2/2 [==============================] - 0s 2ms/step - loss: 0.3785\n",
            "Epoch 27/30\n",
            "2/2 [==============================] - 0s 2ms/step - loss: 0.3745\n",
            "Epoch 28/30\n",
            "2/2 [==============================] - 0s 2ms/step - loss: 0.3707\n",
            "Epoch 29/30\n",
            "2/2 [==============================] - 0s 2ms/step - loss: 0.3669\n",
            "Epoch 30/30\n",
            "2/2 [==============================] - 0s 2ms/step - loss: 0.3632\n"
          ],
          "name": "stdout"
        }
      ]
    },
    {
      "cell_type": "code",
      "metadata": {
        "id": "vNn_qSbGHcK8",
        "colab_type": "code",
        "colab": {
          "base_uri": "https://localhost:8080/",
          "height": 34
        },
        "outputId": "82405eaf-874d-40c8-c327-091d3aefa24a"
      },
      "source": [
        "history"
      ],
      "execution_count": 173,
      "outputs": [
        {
          "output_type": "execute_result",
          "data": {
            "text/plain": [
              "<tensorflow.python.keras.callbacks.History at 0x7f13d4774e10>"
            ]
          },
          "metadata": {
            "tags": []
          },
          "execution_count": 173
        }
      ]
    },
    {
      "cell_type": "code",
      "metadata": {
        "id": "V1_B4nxEHeXO",
        "colab_type": "code",
        "colab": {
          "base_uri": "https://localhost:8080/",
          "height": 34
        },
        "outputId": "6c393eb7-81c9-4c95-a8ec-37790509fe7e"
      },
      "source": [
        "print (model.layers[0].get_weights())"
      ],
      "execution_count": 174,
      "outputs": [
        {
          "output_type": "stream",
          "text": [
            "[array([[-1.7857039]], dtype=float32), array([0.549902], dtype=float32)]\n"
          ],
          "name": "stdout"
        }
      ]
    },
    {
      "cell_type": "code",
      "metadata": {
        "id": "rfB4HbbDHiaI",
        "colab_type": "code",
        "colab": {
          "base_uri": "https://localhost:8080/",
          "height": 87
        },
        "outputId": "c5b352fb-7894-400d-9eed-aaba3a37b6fb"
      },
      "source": [
        "# 学習したモデルにXを与えた際の結果\n",
        "Y = model.predict_classes(X, batch_size=1)\n",
        "\n",
        "print (Y)\n",
        "print (T==Y)"
      ],
      "execution_count": 175,
      "outputs": [
        {
          "output_type": "stream",
          "text": [
            "[[1]\n",
            " [0]]\n",
            "[[ True]\n",
            " [ True]]\n"
          ],
          "name": "stdout"
        }
      ]
    },
    {
      "cell_type": "code",
      "metadata": {
        "id": "xUfkpXPmIy5l",
        "colab_type": "code",
        "colab": {
          "base_uri": "https://localhost:8080/",
          "height": 279
        },
        "outputId": "b0312f94-4723-44a3-adbf-4c4c2a481e68"
      },
      "source": [
        "# 学習過程(loss)の可視化\n",
        "plt.plot(history.history['loss'])\n",
        "plt.ylabel('loss')\n",
        "plt.xlabel('epoch')\n",
        "#plt.ylim(0.5,1)\n",
        "plt.show()\n"
      ],
      "execution_count": 176,
      "outputs": [
        {
          "output_type": "display_data",
          "data": {
            "image/png": "[encoded data removed]",
            "text/plain": [
              "<Figure size 432x288 with 1 Axes>"
            ]
          },
          "metadata": {
            "tags": [],
            "needs_background": "light"
          }
        }
      ]
    },
    {
      "cell_type": "code",
      "metadata": {
        "id": "OOdGv46_I2ud",
        "colab_type": "code",
        "colab": {}
      },
      "source": [
        ""
      ],
      "execution_count": null,
      "outputs": []
    }
  ]
}