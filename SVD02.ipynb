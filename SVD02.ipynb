{
  "nbformat": 4,
  "nbformat_minor": 0,
  "metadata": {
    "colab": {
      "name": "SVD02.ipynb",
      "provenance": [],
      "collapsed_sections": [],
      "authorship_tag": "ABX9TyOLu7ck0HhyF2mTp4H7NhbN",
      "include_colab_link": true
    },
    "kernelspec": {
      "name": "python3",
      "display_name": "Python 3"
    }
  },
  "cells": [
    {
      "cell_type": "markdown",
      "metadata": {
        "id": "view-in-github",
        "colab_type": "text"
      },
      "source": [
        "<a href=\"https://colab.research.google.com/github/ghostfm3/ksks/blob/master/SVD02.ipynb\" target=\"_parent\"><img src=\"https://colab.research.google.com/assets/colab-badge.svg\" alt=\"Open In Colab\"/></a>"
      ]
    },
    {
      "cell_type": "code",
      "metadata": {
        "colab": {
          "base_uri": "https://localhost:8080/"
        },
        "id": "1Pf-nhQonOpu",
        "outputId": "705f62fd-7ea9-4be9-c862-e9fb7e4934b1"
      },
      "source": [
        "!apt-get -q -y install sudo file mecab libmecab-dev mecab-ipadic-utf8 git curl python-mecab > /dev/null\r\n",
        "!git clone --depth 1 https://github.com/neologd/mecab-ipadic-neologd.git > /dev/null \r\n",
        "!echo yes | mecab-ipadic-neologd/bin/install-mecab-ipadic-neologd -n > /dev/null 2>&1\r\n",
        "!pip install mecab-python3 > /dev/null\r\n",
        "!echo mecab-config --dicdir\"/mecab-ipadic-neologd\""
      ],
      "execution_count": 2,
      "outputs": [
        {
          "output_type": "stream",
          "text": [
            "Cloning into 'mecab-ipadic-neologd'...\n",
            "remote: Enumerating objects: 75, done.\u001b[K\n",
            "remote: Counting objects: 100% (75/75), done.\u001b[K\n",
            "remote: Compressing objects: 100% (74/74), done.\u001b[K\n",
            "remote: Total 75 (delta 5), reused 54 (delta 0), pack-reused 0\u001b[K\n",
            "Unpacking objects: 100% (75/75), done.\n",
            "mecab-config --dicdir/mecab-ipadic-neologd\n"
          ],
          "name": "stdout"
        }
      ]
    },
    {
      "cell_type": "code",
      "metadata": {
        "colab": {
          "base_uri": "https://localhost:8080/"
        },
        "id": "5Lw0OvYknZJ7",
        "outputId": "4b04fb49-eace-4685-e8a5-8417b44079d3"
      },
      "source": [
        "pip install unidic-lite"
      ],
      "execution_count": 3,
      "outputs": [
        {
          "output_type": "stream",
          "text": [
            "Collecting unidic-lite\n",
            "\u001b[?25l  Downloading https://files.pythonhosted.org/packages/74/d2/a4233f65f718f27065a4cf23a2c4f05d8bd4c75821e092060c4efaf28e66/unidic-lite-1.0.7.tar.gz (47.3MB)\n",
            "\u001b[K     |████████████████████████████████| 47.3MB 96kB/s \n",
            "\u001b[?25hBuilding wheels for collected packages: unidic-lite\n",
            "  Building wheel for unidic-lite (setup.py) ... \u001b[?25l\u001b[?25hdone\n",
            "  Created wheel for unidic-lite: filename=unidic_lite-1.0.7-cp36-none-any.whl size=47556593 sha256=ae750557ec79efdcc72d8185b286914d43a5b7dd4a4320d46990c504fc3cd94a\n",
            "  Stored in directory: /root/.cache/pip/wheels/a8/82/7d/086724645e33a575aafd0b1dae2835c37d2c00c6a0a96ee3a0\n",
            "Successfully built unidic-lite\n",
            "Installing collected packages: unidic-lite\n",
            "Successfully installed unidic-lite-1.0.7\n"
          ],
          "name": "stdout"
        }
      ]
    },
    {
      "cell_type": "code",
      "metadata": {
        "id": "A5W-WP-VneHg"
      },
      "source": [
        "import sys\r\n",
        "sys.path.append('..')\r\n",
        "import numpy as np\r\n",
        "import matplotlib.pyplot as plt\r\n",
        "import MeCab\r\n",
        "\r\n",
        "def preprocess(text):\r\n",
        "    text = text.lower()\r\n",
        "    text = text.replace('.', ' .')\r\n",
        "    words = text.split(' ')\r\n",
        "\r\n",
        "    word_to_id = {}\r\n",
        "    id_to_word = {}\r\n",
        "    for word in words:\r\n",
        "        if word not in word_to_id:\r\n",
        "            new_id = len(word_to_id)\r\n",
        "            word_to_id[word] = new_id\r\n",
        "            id_to_word[new_id] = word\r\n",
        "\r\n",
        "    corpus = np.array([word_to_id[w] for w in words])\r\n",
        "\r\n",
        "    return corpus, word_to_id, id_to_word\r\n",
        "\r\n",
        "def create_co_matrix(corpus, vocab_size, window_size=1):\r\n",
        "    '''共起行列の作成\r\n",
        "    :param corpus: コーパス（単語IDのリスト）\r\n",
        "    :param vocab_size:語彙数\r\n",
        "    :param window_size:ウィンドウサイズ（ウィンドウサイズが1のときは、単語の左右1単語がコンテキスト）\r\n",
        "    :return: 共起行列\r\n",
        "    '''\r\n",
        "    corpus_size = len(corpus)\r\n",
        "    co_matrix = np.zeros((vocab_size, vocab_size), dtype=np.int32)\r\n",
        "\r\n",
        "    for idx, word_id in enumerate(corpus):\r\n",
        "        for i in range(1, window_size + 1):\r\n",
        "            left_idx = idx - i\r\n",
        "            right_idx = idx + i\r\n",
        "\r\n",
        "            if left_idx >= 0:\r\n",
        "                left_word_id = corpus[left_idx]\r\n",
        "                co_matrix[word_id, left_word_id] += 1\r\n",
        "\r\n",
        "            if right_idx < corpus_size:\r\n",
        "                right_word_id = corpus[right_idx]\r\n",
        "                co_matrix[word_id, right_word_id] += 1\r\n",
        "\r\n",
        "    return co_matrix\r\n",
        "\r\n",
        "def ppmi(C, verbose=False, eps = 1e-8):\r\n",
        "    '''PPMI（正の相互情報量）の作成\r\n",
        "    :param C: 共起行列\r\n",
        "    :param verbose: 進行状況を出力するかどうか\r\n",
        "    :return:\r\n",
        "    '''\r\n",
        "    M = np.zeros_like(C, dtype=np.float32)\r\n",
        "    N = np.sum(C)\r\n",
        "    S = np.sum(C, axis=0)\r\n",
        "    total = C.shape[0] * C.shape[1]\r\n",
        "    cnt = 0\r\n",
        "\r\n",
        "    for i in range(C.shape[0]):\r\n",
        "        for j in range(C.shape[1]):\r\n",
        "            pmi = np.log2(C[i, j] * N / (S[j]*S[i]) + eps)\r\n",
        "            M[i, j] = max(0, pmi)\r\n",
        "\r\n",
        "            if verbose:\r\n",
        "                cnt += 1\r\n",
        "                if cnt % (total//100 + 1) == 0:\r\n",
        "                    print('%.1f%% done' % (100*cnt/total))\r\n",
        "    return M\r\n",
        "\r\n",
        "m = MeCab.Tagger('-Owakati')\r\n",
        "result = m.parse('PPIとはプロトンポンプ阻害薬のことです')\r\n",
        "\r\n",
        "text = result\r\n",
        "corpus, word_to_id, id_to_word = preprocess(text)\r\n",
        "vocab_size = len(id_to_word)\r\n",
        "C = create_co_matrix(corpus, vocab_size, window_size=1)\r\n",
        "W = ppmi(C)\r\n",
        "\r\n",
        "U, S, V = np.linalg.svd(W)"
      ],
      "execution_count": 4,
      "outputs": []
    },
    {
      "cell_type": "code",
      "metadata": {
        "colab": {
          "base_uri": "https://localhost:8080/"
        },
        "id": "OFqST1uOnyoG",
        "outputId": "6d395df2-bfc3-4624-c534-936bc9fd247a"
      },
      "source": [
        "print(C[0])"
      ],
      "execution_count": 5,
      "outputs": [
        {
          "output_type": "stream",
          "text": [
            "[0 1 0 0 0 0 0 0 0 0 0]\n"
          ],
          "name": "stdout"
        }
      ]
    },
    {
      "cell_type": "code",
      "metadata": {
        "colab": {
          "base_uri": "https://localhost:8080/"
        },
        "id": "nvG7wMEMn2vz",
        "outputId": "a3cc70e7-4905-456c-a33a-6b38f6ab146b"
      },
      "source": [
        "print(W[0])"
      ],
      "execution_count": 6,
      "outputs": [
        {
          "output_type": "stream",
          "text": [
            "[0.       3.321928 0.       0.       0.       0.       0.       0.\n",
            " 0.       0.       0.      ]\n"
          ],
          "name": "stdout"
        }
      ]
    },
    {
      "cell_type": "code",
      "metadata": {
        "colab": {
          "base_uri": "https://localhost:8080/"
        },
        "id": "SCngJsrZn7wc",
        "outputId": "535924cd-278f-499c-c6aa-f6da7473a884"
      },
      "source": [
        "print(U[0])\r\n",
        "print(U[1])\r\n",
        "print(U[2])\r\n",
        "print(U[3])\r\n",
        "print(U[4])\r\n",
        "print(U[5])\r\n",
        "print(U[6])\r\n",
        "print(U[7])\r\n",
        "print(U[8])"
      ],
      "execution_count": 7,
      "outputs": [
        {
          "output_type": "stream",
          "text": [
            "[ 0.32511944  0.         -0.4528665   0.          0.          0.4448483\n",
            " -0.4435661   0.         -0.44317868  0.          0.3133066 ]\n",
            "[ 0.         -0.45558053  0.         -0.6049245  -0.5054269   0.\n",
            "  0.         -0.36615074  0.          0.19232789  0.        ]\n",
            "[ 0.44819164  0.         -0.5081365   0.          0.          0.18513913\n",
            "  0.20218253  0.          0.5146336   0.         -0.44824043]\n",
            "[ 0.         -0.4429389   0.         -0.36615074  0.20448261  0.\n",
            "  0.          0.6049245   0.         -0.51185155  0.        ]\n",
            "[ 0.43979722  0.         -0.19159645  0.          0.         -0.5175263\n",
            "  0.51222193  0.         -0.19683726  0.          0.44824043]\n",
            "[ 0.0000000e+00 -4.3875167e-01  0.0000000e+00 -6.1062266e-16\n",
            "  6.3675821e-01  0.0000000e+00  0.0000000e+00 -4.1993215e-16\n",
            "  0.0000000e+00  6.3406307e-01  0.0000000e+00]\n",
            "[ 0.43979722  0.          0.19159645  0.          0.         -0.5175263\n",
            " -0.51222193  0.         -0.19683726  0.         -0.44824043]\n",
            "[ 0.         -0.4429389   0.          0.36615074  0.20448261  0.\n",
            "  0.         -0.6049245   0.         -0.51185155  0.        ]\n",
            "[ 0.44819164  0.          0.5081365   0.          0.          0.18513913\n",
            " -0.20218253  0.          0.5146336   0.          0.44824043]\n"
          ],
          "name": "stdout"
        }
      ]
    }
  ]
}