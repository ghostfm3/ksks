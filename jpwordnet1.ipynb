{
  "nbformat": 4,
  "nbformat_minor": 0,
  "metadata": {
    "colab": {
      "name": "jpwordnet1.ipynb",
      "provenance": [],
      "collapsed_sections": [],
      "authorship_tag": "ABX9TyPNBLcX0UL36jSBzkdKxAvM",
      "include_colab_link": true
    },
    "kernelspec": {
      "name": "python3",
      "display_name": "Python 3"
    },
    "language_info": {
      "name": "python"
    }
  },
  "cells": [
    {
      "cell_type": "markdown",
      "metadata": {
        "id": "view-in-github",
        "colab_type": "text"
      },
      "source": [
        "<a href=\"https://colab.research.google.com/github/ghostfm3/ksks/blob/master/jpwordnet1.ipynb\" target=\"_parent\"><img src=\"https://colab.research.google.com/assets/colab-badge.svg\" alt=\"Open In Colab\"/></a>"
      ]
    },
    {
      "cell_type": "code",
      "metadata": {
        "id": "gQSlD7P5t3YR"
      },
      "source": [
        "import sqlite3"
      ],
      "execution_count": 1,
      "outputs": []
    },
    {
      "cell_type": "code",
      "metadata": {
        "id": "8MtKTxcXyOsO"
      },
      "source": [
        "conn = sqlite3.connect(\"wnjpn.db\")"
      ],
      "execution_count": 2,
      "outputs": []
    },
    {
      "cell_type": "code",
      "metadata": {
        "colab": {
          "base_uri": "https://localhost:8080/"
        },
        "id": "pwQbWE7MyRt8",
        "outputId": "c0fcefde-dfcb-48ff-82db-434d0327a416"
      },
      "source": [
        "cur = conn.execute(\"select name from sqlite_master where type='table'\")\n",
        "for row in cur:\n",
        "    print(row)"
      ],
      "execution_count": 3,
      "outputs": [
        {
          "output_type": "stream",
          "text": [
            "('pos_def',)\n",
            "('link_def',)\n",
            "('synset_def',)\n",
            "('synset_ex',)\n",
            "('synset',)\n",
            "('synlink',)\n",
            "('ancestor',)\n",
            "('sense',)\n",
            "('word',)\n",
            "('variant',)\n",
            "('xlink',)\n"
          ],
          "name": "stdout"
        }
      ]
    },
    {
      "cell_type": "code",
      "metadata": {
        "colab": {
          "base_uri": "https://localhost:8080/"
        },
        "id": "MRrS2IutyUpK",
        "outputId": "234f09ab-8d66-434b-c2f5-8d271d5d0950"
      },
      "source": [
        "cur = conn.execute(\"select * from word limit 10\")\n",
        "for row in cur:\n",
        "    print(row)"
      ],
      "execution_count": 4,
      "outputs": [
        {
          "output_type": "stream",
          "text": [
            "(1, 'eng', 'expletive', None, 'n')\n",
            "(2, 'eng', 'measles', None, 'n')\n",
            "(3, 'eng', 'contras', None, 'n')\n",
            "(4, 'eng', 'beef_man', None, 'n')\n",
            "(5, 'eng', 'dwelling', None, 'n')\n",
            "(6, 'eng', 'acetum', None, 'n')\n",
            "(7, 'eng', 'mount_carmel', None, 'n')\n",
            "(8, 'eng', 'class_taxopsida', None, 'n')\n",
            "(9, 'eng', 'vascular_ray', None, 'n')\n",
            "(10, 'eng', 'genus_salamandra', None, 'n')\n"
          ],
          "name": "stdout"
        }
      ]
    },
    {
      "cell_type": "code",
      "metadata": {
        "colab": {
          "base_uri": "https://localhost:8080/"
        },
        "id": "gbW6-l1lyXeq",
        "outputId": "4c8a8d44-2f9d-4dd9-b39f-54f821d094da"
      },
      "source": [
        "cur = conn.execute(\"PRAGMA TABLE_INFO(word)\")\n",
        "for row in cur:\n",
        "    print(row)"
      ],
      "execution_count": 5,
      "outputs": [
        {
          "output_type": "stream",
          "text": [
            "(0, 'wordid', 'integer', 0, None, 1)\n",
            "(1, 'lang', 'text', 0, None, 0)\n",
            "(2, 'lemma', 'text', 0, None, 0)\n",
            "(3, 'pron', 'text', 0, None, 0)\n",
            "(4, 'pos', 'text', 0, None, 0)\n"
          ],
          "name": "stdout"
        }
      ]
    },
    {
      "cell_type": "code",
      "metadata": {
        "colab": {
          "base_uri": "https://localhost:8080/"
        },
        "id": "aPaOdUOPycQ6",
        "outputId": "05e3ebed-8bb1-4dd8-f1c5-ba5fe55b1806"
      },
      "source": [
        "cur = conn.execute(\"select count(*) from word\")\n",
        "for row in cur:\n",
        "    print(\"Wordnetに登録されているWordDBの単語数：%s\" % row[0])"
      ],
      "execution_count": 6,
      "outputs": [
        {
          "output_type": "stream",
          "text": [
            "Wordnetに登録されているWordDBの単語数：249121\n"
          ],
          "name": "stdout"
        }
      ]
    },
    {
      "cell_type": "code",
      "metadata": {
        "id": "zEY5PzuOydkP"
      },
      "source": [
        "# 特定の単語を入力とした時に、類義語を検索する関数\n",
        "def SearchSimilarWords(word):\n",
        "\n",
        "    # 問い合わせしたい単語がWordnetに存在するか確認する\n",
        "    cur = conn.execute(\"select wordid from word where lemma='%s'\" % word)\n",
        "    word_id = 99999999  #temp \n",
        "    for row in cur:\n",
        "        word_id = row[0]\n",
        "\n",
        "    # Wordnetに存在する語であるかの判定\n",
        "    if word_id==99999999:\n",
        "        print(\"「%s」は、Wordnetに存在しない単語です。\" % word)\n",
        "        return\n",
        "    else:\n",
        "        print(\"【「%s」の類似語を出力します】\\n\" % word)\n",
        "\n",
        "    # 入力された単語を含む概念を検索する\n",
        "    cur = conn.execute(\"select synset from sense where wordid='%s'\" % word_id)\n",
        "    synsets = []\n",
        "    for row in cur:\n",
        "        synsets.append(row[0])\n",
        "\n",
        "    # 概念に含まれる単語を検索して画面出力する\n",
        "    no = 1\n",
        "    for synset in synsets:\n",
        "        cur1 = conn.execute(\"select name from synset where synset='%s'\" % synset)\n",
        "        for row1 in cur1:\n",
        "            print(\"%sつめの概念 : %s\" %(no, row1[0]))\n",
        "        cur2 = conn.execute(\"select def from synset_def where (synset='%s' and lang='jpn')\" % synset)\n",
        "        sub_no = 1\n",
        "        for row2 in cur2:\n",
        "            print(\"意味%s : %s\" %(sub_no, row2[0]))\n",
        "            sub_no += 1\n",
        "        cur3 = conn.execute(\"select wordid from sense where (synset='%s' and wordid!=%s)\" % (synset,word_id))\n",
        "        sub_no = 1\n",
        "        for row3 in cur3:\n",
        "            target_word_id = row3[0]\n",
        "            cur3_1 = conn.execute(\"select lemma from word where wordid=%s\" % target_word_id)\n",
        "            for row3_1 in cur3_1:\n",
        "                print(\"類義語%s : %s\" % (sub_no, row3_1[0]))\n",
        "                sub_no += 1\n",
        "        print(\"\\n\")\n",
        "        no += 1"
      ],
      "execution_count": 7,
      "outputs": []
    },
    {
      "cell_type": "code",
      "metadata": {
        "colab": {
          "base_uri": "https://localhost:8080/"
        },
        "id": "BgjdKG5Pyhkt",
        "outputId": "f26c1385-496f-4b8c-982e-5e04f192c17b"
      },
      "source": [
        "SearchSimilarWords(\"ぼんやり\")"
      ],
      "execution_count": 8,
      "outputs": [
        {
          "output_type": "stream",
          "text": [
            "【「ぼんやり」の類似語を出力します】\n",
            "\n",
            "1つめの概念 : mistily\n",
            "意味1 : 漠然とした方法で\n",
            "類義語1 : mistily\n",
            "類義語2 : vaguely\n",
            "類義語3 : ぼうっと\n",
            "類義語4 : 何が無し\n",
            "類義語5 : 茫と\n",
            "類義語6 : 何と無く\n",
            "類義語7 : 薄々\n",
            "類義語8 : うすうす\n",
            "類義語9 : ぼやっと\n",
            "類義語10 : 何となく\n",
            "類義語11 : なんとなく\n",
            "類義語12 : 薄薄\n",
            "類義語13 : なにがなし\n",
            "類義語14 : 何処となく\n",
            "類義語15 : 杳として\n",
            "類義語16 : 何処と無く\n",
            "類義語17 : もやもや\n",
            "類義語18 : 何がなし\n",
            "\n",
            "\n",
            "2つめの概念 : vacantly\n",
            "意味1 : 空虚な態度で\n",
            "類義語1 : vacantly\n",
            "\n",
            "\n",
            "3つめの概念 : absentmindedly\n",
            "意味1 : ぼんやりした、あるいは気を取られている態度で\n",
            "類義語1 : absentmindedly\n",
            "類義語2 : abstractedly\n",
            "類義語3 : absently\n",
            "類義語4 : inattentively\n",
            "類義語5 : ぽかんと\n",
            "類義語6 : うかうか\n",
            "類義語7 : あっけらかん\n",
            "\n",
            "\n"
          ],
          "name": "stdout"
        }
      ]
    }
  ]
}