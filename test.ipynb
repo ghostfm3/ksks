{
  "nbformat": 4,
  "nbformat_minor": 0,
  "metadata": {
    "colab": {
      "name": "test.ipynb",
      "provenance": [],
      "authorship_tag": "ABX9TyNwv0CR7PTTQBBrWAqtVUiU",
      "include_colab_link": true
    },
    "kernelspec": {
      "name": "python3",
      "display_name": "Python 3"
    },
    "language_info": {
      "name": "python"
    }
  },
  "cells": [
    {
      "cell_type": "markdown",
      "metadata": {
        "id": "view-in-github",
        "colab_type": "text"
      },
      "source": [
        "<a href=\"https://colab.research.google.com/github/ghostfm3/ksks/blob/master/test.ipynb\" target=\"_parent\"><img src=\"https://colab.research.google.com/assets/colab-badge.svg\" alt=\"Open In Colab\"/></a>"
      ]
    },
    {
      "cell_type": "code",
      "metadata": {
        "id": "seJkkyGeki0M"
      },
      "source": [
        "import gensim\n",
        "from gensim.models import KeyedVectors\n",
        "import pandas as pd\n",
        "import numpy as np\n"
      ],
      "execution_count": 1,
      "outputs": []
    },
    {
      "cell_type": "code",
      "metadata": {
        "id": "x_WisP9AlHS_"
      },
      "source": [
        "vectors = pd.read_csv('vectors.txt', delimiter=' ', index_col=0, header=None)"
      ],
      "execution_count": 2,
      "outputs": []
    },
    {
      "cell_type": "code",
      "metadata": {
        "id": "lHaOPMsglaMP"
      },
      "source": [
        "with open('vectors.txt', 'r') as original, open('./gensim_vectors.txt', 'w') as transformed:\n",
        "    vocab_count = vectors.shape[0]  # 単語数\n",
        "    size = vectors.shape[1]  # 次元数\n",
        "    \n",
        "    transformed.write(f'{vocab_count} {size}\\n')\n",
        "    transformed.write(original.read())  # 2行目以降はそのまま出力"
      ],
      "execution_count": 3,
      "outputs": []
    },
    {
      "cell_type": "code",
      "metadata": {
        "id": "rpDzsXikleHr"
      },
      "source": [
        "glove_vectors = KeyedVectors.load_word2vec_format('gensim_vectors.txt', binary=False)"
      ],
      "execution_count": 4,
      "outputs": []
    },
    {
      "cell_type": "code",
      "metadata": {
        "colab": {
          "base_uri": "https://localhost:8080/"
        },
        "id": "_GA7UgRklhuK",
        "outputId": "2ec86ec3-36e5-4856-f90c-6c70d047248c"
      },
      "source": [
        "glove_vectors.wv[\"cost\"]"
      ],
      "execution_count": 6,
      "outputs": [
        {
          "output_type": "stream",
          "text": [
            "/usr/local/lib/python3.7/dist-packages/ipykernel_launcher.py:1: DeprecationWarning: Call to deprecated `wv` (Attribute will be removed in 4.0.0, use self instead).\n",
            "  \"\"\"Entry point for launching an IPython kernel.\n"
          ],
          "name": "stderr"
        },
        {
          "output_type": "execute_result",
          "data": {
            "text/plain": [
              "array([-0.018516, -0.002645,  0.003834,  0.003708, -0.003748, -0.012459,\n",
              "        0.006427,  0.018688, -0.011042,  0.020539, -0.013353, -0.010005,\n",
              "        0.009303,  0.00574 , -0.00617 , -0.000483,  0.008867,  0.010319,\n",
              "       -0.021455, -0.005061,  0.000799, -0.018695,  0.000719,  0.014986,\n",
              "       -0.00278 ,  0.009085,  0.007878,  0.003174, -0.002323,  0.010632,\n",
              "        0.013721, -0.009334, -0.015165,  0.005192,  0.002496, -0.004681,\n",
              "        0.009718,  0.012196,  0.008086,  0.004583,  0.004178, -0.00356 ,\n",
              "        0.000487, -0.011566, -0.007181, -0.010248, -0.00562 , -0.016595,\n",
              "       -0.001924, -0.001116], dtype=float32)"
            ]
          },
          "metadata": {
            "tags": []
          },
          "execution_count": 6
        }
      ]
    },
    {
      "cell_type": "code",
      "metadata": {
        "id": "txKPfJoClshv"
      },
      "source": [
        "from gensim.test.utils import datapath"
      ],
      "execution_count": 7,
      "outputs": []
    },
    {
      "cell_type": "code",
      "metadata": {
        "id": "bu7hPMxClyBd"
      },
      "source": [
        "analogy_scores = glove_vectors.evaluate_word_analogies(datapath('questions-words.txt'))"
      ],
      "execution_count": 10,
      "outputs": []
    },
    {
      "cell_type": "code",
      "metadata": {
        "colab": {
          "base_uri": "https://localhost:8080/"
        },
        "id": "NfEyYQRUl69E",
        "outputId": "c14175fb-6b03-4bf6-92be-c75969b66032"
      },
      "source": [
        "analogy_scores[0]"
      ],
      "execution_count": 11,
      "outputs": [
        {
          "output_type": "execute_result",
          "data": {
            "text/plain": [
              "0.0"
            ]
          },
          "metadata": {
            "tags": []
          },
          "execution_count": 11
        }
      ]
    },
    {
      "cell_type": "code",
      "metadata": {
        "id": "fk57RJrtmg-i"
      },
      "source": [
        "similarities = glove_vectors.evaluate_word_pairs(datapath('wordsim353.tsv'))"
      ],
      "execution_count": 12,
      "outputs": []
    },
    {
      "cell_type": "code",
      "metadata": {
        "colab": {
          "base_uri": "https://localhost:8080/"
        },
        "id": "j8hIBOgSm3g1",
        "outputId": "2acdb1fd-f4b1-4bc2-8592-3931001c980f"
      },
      "source": [
        "similarities[0]"
      ],
      "execution_count": 13,
      "outputs": [
        {
          "output_type": "execute_result",
          "data": {
            "text/plain": [
              "(-0.18880862531100867, 0.18912986538994309)"
            ]
          },
          "metadata": {
            "tags": []
          },
          "execution_count": 13
        }
      ]
    }
  ]
}