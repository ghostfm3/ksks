{
  "nbformat": 4,
  "nbformat_minor": 0,
  "metadata": {
    "colab": {
      "name": "mcatfc2.ipynb",
      "provenance": [],
      "collapsed_sections": [],
      "authorship_tag": "ABX9TyNx5X30fIxPUr4uX7Z342v9",
      "include_colab_link": true
    },
    "kernelspec": {
      "name": "python3",
      "display_name": "Python 3"
    }
  },
  "cells": [
    {
      "cell_type": "markdown",
      "metadata": {
        "id": "view-in-github",
        "colab_type": "text"
      },
      "source": [
        "<a href=\"https://colab.research.google.com/github/ghostfm3/ksks/blob/master/mcatfc2.ipynb\" target=\"_parent\"><img src=\"https://colab.research.google.com/assets/colab-badge.svg\" alt=\"Open In Colab\"/></a>"
      ]
    },
    {
      "cell_type": "code",
      "metadata": {
        "colab": {
          "base_uri": "https://localhost:8080/"
        },
        "id": "ciYoUt47Gqj3",
        "outputId": "cfb20826-578a-4d29-c419-111366acc92d"
      },
      "source": [
        "import sys\r\n",
        "import numpy as np\r\n",
        "sys.path.append('..')\r\n",
        "def preprocess(text):\r\n",
        "  text = text.lower()\r\n",
        "  text = text.replace('.', ' .')\r\n",
        "  words = text.split(' ')\r\n",
        "\r\n",
        "  word_to_id = {}\r\n",
        "  id_to_word = {}\r\n",
        "  for word in words:\r\n",
        "    if word not in word_to_id:\r\n",
        "      new_id = len(word_to_id)\r\n",
        "      word_to_id[word] = new_id\r\n",
        "      id_to_word[new_id] = word \r\n",
        "  \r\n",
        "  corpus = np.array([word_to_id[w] for w in words])\r\n",
        "  return corpus, word_to_id, id_to_word\r\n",
        "\r\n",
        "text = 'You say goodbye and I say hello.'\r\n",
        "corpus, word_to_id, id_to_word = preprocess(text)\r\n",
        "print(corpus)\r\n",
        "\r\n",
        "print(id_to_word)\r\n",
        "\r\n",
        "def create_context_target(corpus, window_size=1):\r\n",
        "  target = corpus[window_size:-window_size]\r\n",
        "  contexts = []\r\n",
        "\r\n",
        "  for idx in range(window_size, len(corpus)-window_size):\r\n",
        "    cs = []\r\n",
        "    for t in range(-window_size, window_size + 1):\r\n",
        "      if t == 0:\r\n",
        "        continue\r\n",
        "      cs.append(corpus[idx + t])\r\n",
        "    contexts.append(cs)\r\n",
        "  \r\n",
        "  return np.array(contexts), np.array(target)\r\n",
        "\r\n",
        "contexts, target = create_context_target(corpus, window_size=1)\r\n",
        "print(contexts)\r\n",
        "print(target)"
      ],
      "execution_count": 2,
      "outputs": [
        {
          "output_type": "stream",
          "text": [
            "[0 1 2 3 4 1 5 6]\n",
            "{0: 'you', 1: 'say', 2: 'goodbye', 3: 'and', 4: 'i', 5: 'hello', 6: '.'}\n",
            "[[0 2]\n",
            " [1 3]\n",
            " [2 4]\n",
            " [3 1]\n",
            " [4 5]\n",
            " [1 6]]\n",
            "[1 2 3 4 1 5]\n"
          ],
          "name": "stdout"
        }
      ]
    },
    {
      "cell_type": "markdown",
      "metadata": {
        "id": "bAHociUdG9FT"
      },
      "source": [
        "P112~113"
      ]
    }
  ]
}