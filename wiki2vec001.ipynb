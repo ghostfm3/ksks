{
 "cells": [
  {
   "cell_type": "code",
   "execution_count": 3,
   "metadata": {},
   "outputs": [
    {
     "name": "stdout",
     "output_type": "stream",
     "text": [
      "Requirement already satisfied: wikipedia2vec in c:\\users\\p-user\\anaconda3\\lib\\site-packages (1.0.4)\n",
      "Requirement already satisfied: mwparserfromhell in c:\\users\\p-user\\anaconda3\\lib\\site-packages (from wikipedia2vec) (0.6)\n",
      "Requirement already satisfied: lmdb in c:\\users\\p-user\\anaconda3\\lib\\site-packages (from wikipedia2vec) (1.0.0)\n",
      "Requirement already satisfied: marisa-trie in c:\\users\\p-user\\anaconda3\\lib\\site-packages (from wikipedia2vec) (0.7.5)\n",
      "Requirement already satisfied: click in c:\\users\\p-user\\anaconda3\\lib\\site-packages (from wikipedia2vec) (7.1.2)\n",
      "Requirement already satisfied: jieba in c:\\users\\p-user\\anaconda3\\lib\\site-packages (from wikipedia2vec) (0.42.1)\n",
      "Requirement already satisfied: joblib in c:\\users\\p-user\\anaconda3\\lib\\site-packages (from wikipedia2vec) (0.16.0)\n",
      "Requirement already satisfied: scipy in c:\\users\\p-user\\anaconda3\\lib\\site-packages (from wikipedia2vec) (1.5.0)\n",
      "Requirement already satisfied: tqdm in c:\\users\\p-user\\anaconda3\\lib\\site-packages (from wikipedia2vec) (4.47.0)\n",
      "Requirement already satisfied: numpy in c:\\users\\p-user\\anaconda3\\lib\\site-packages (from wikipedia2vec) (1.18.5)\n",
      "Requirement already satisfied: six in c:\\users\\p-user\\anaconda3\\lib\\site-packages (from wikipedia2vec) (1.15.0)\n"
     ]
    }
   ],
   "source": [
    "!pip install wikipedia2vec"
   ]
  },
  {
   "cell_type": "code",
   "execution_count": 4,
   "metadata": {},
   "outputs": [],
   "source": [
    "from wikipedia2vec import Wikipedia2Vec "
   ]
  },
  {
   "cell_type": "code",
   "execution_count": 6,
   "metadata": {},
   "outputs": [],
   "source": [
    "MODEL_FILE =  r\"C:\\Users\\p-user\\Downloads\\jawiki_20180420_100d.pkl\""
   ]
  },
  {
   "cell_type": "code",
   "execution_count": 7,
   "metadata": {},
   "outputs": [],
   "source": [
    "wiki2vec = Wikipedia2Vec.load(MODEL_FILE) "
   ]
  },
  {
   "cell_type": "code",
   "execution_count": 9,
   "metadata": {},
   "outputs": [
    {
     "data": {
      "text/plain": [
       "<Entity 山>"
      ]
     },
     "execution_count": 9,
     "metadata": {},
     "output_type": "execute_result"
    }
   ],
   "source": [
    "wiki2vec.get_entity('山')  "
   ]
  },
  {
   "cell_type": "code",
   "execution_count": 10,
   "metadata": {},
   "outputs": [
    {
     "data": {
      "text/plain": [
       "[(<Entity 山>, 0.9999999),\n",
       " (<Entity 最高峰>, 0.7643737),\n",
       " (<Entity 独立峰>, 0.7470678),\n",
       " (<Entity 高さ#標高>, 0.7448979),\n",
       " (<Entity 日本の山一覧>, 0.73776823),\n",
       " (<Entity 高さ>, 0.72241396),\n",
       " (<Entity 山脈>, 0.7172812),\n",
       " (<Entity 黒沢山>, 0.71064603),\n",
       " (<Word 標高>, 0.7032571),\n",
       " (<Entity 各都道府県の最高峰>, 0.702846)]"
      ]
     },
     "execution_count": 10,
     "metadata": {},
     "output_type": "execute_result"
    }
   ],
   "source": [
    "wiki2vec.most_similar(wiki2vec.get_entity('山'), 10)  "
   ]
  }
 ],
 "metadata": {
  "kernelspec": {
   "display_name": "Python 3",
   "language": "python",
   "name": "python3"
  },
  "language_info": {
   "codemirror_mode": {
    "name": "ipython",
    "version": 3
   },
   "file_extension": ".py",
   "mimetype": "text/x-python",
   "name": "python",
   "nbconvert_exporter": "python",
   "pygments_lexer": "ipython3",
   "version": "3.8.3"
  }
 },
 "nbformat": 4,
 "nbformat_minor": 4
}
